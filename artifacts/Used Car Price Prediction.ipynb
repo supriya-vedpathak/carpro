{
 "cells": [
  {
   "cell_type": "code",
   "execution_count": 1,
   "id": "09efb15e",
   "metadata": {},
   "outputs": [],
   "source": [
    "import pandas as pd\n",
    "import numpy as np"
   ]
  },
  {
   "cell_type": "code",
   "execution_count": 2,
   "id": "119abe7c",
   "metadata": {},
   "outputs": [],
   "source": [
    "from sklearn.linear_model import LinearRegression\n",
    "\n",
    "from sklearn.model_selection import train_test_split\n",
    "\n",
    "from sklearn.metrics import mean_squared_error  , r2_score , mean_absolute_error\n",
    "\n",
    "import seaborn as sns\n",
    "import matplotlib.pyplot as plt"
   ]
  },
  {
   "cell_type": "code",
   "execution_count": 3,
   "id": "155d7d82",
   "metadata": {},
   "outputs": [],
   "source": [
    "from scipy.stats import zscore"
   ]
  },
  {
   "cell_type": "code",
   "execution_count": 4,
   "id": "02b4fa83",
   "metadata": {},
   "outputs": [],
   "source": [
    "from sklearn.impute import KNNImputer"
   ]
  },
  {
   "cell_type": "code",
   "execution_count": 5,
   "id": "c6d9c5f2",
   "metadata": {},
   "outputs": [],
   "source": [
    "import pickle\n",
    "import json\n",
    "import re"
   ]
  },
  {
   "cell_type": "markdown",
   "id": "01d49b23",
   "metadata": {},
   "source": [
    "### 1.Problem Statement"
   ]
  },
  {
   "cell_type": "raw",
   "id": "12e9a4f5",
   "metadata": {},
   "source": [
    "to predict the price of used car on the basis of provided features"
   ]
  },
  {
   "cell_type": "markdown",
   "id": "20f76641",
   "metadata": {},
   "source": [
    "### 2.Data Gathering"
   ]
  },
  {
   "cell_type": "code",
   "execution_count": 116,
   "id": "66305a34",
   "metadata": {},
   "outputs": [],
   "source": [
    "df = pd.read_csv(r\"E:\\projects\\Used Car price Prediction\\artifacts\\train-data.csv\")"
   ]
  },
  {
   "cell_type": "code",
   "execution_count": 117,
   "id": "ed4d596f",
   "metadata": {},
   "outputs": [
    {
     "data": {
      "text/html": [
       "<div>\n",
       "<style scoped>\n",
       "    .dataframe tbody tr th:only-of-type {\n",
       "        vertical-align: middle;\n",
       "    }\n",
       "\n",
       "    .dataframe tbody tr th {\n",
       "        vertical-align: top;\n",
       "    }\n",
       "\n",
       "    .dataframe thead th {\n",
       "        text-align: right;\n",
       "    }\n",
       "</style>\n",
       "<table border=\"1\" class=\"dataframe\">\n",
       "  <thead>\n",
       "    <tr style=\"text-align: right;\">\n",
       "      <th></th>\n",
       "      <th>Unnamed: 0</th>\n",
       "      <th>Name</th>\n",
       "      <th>Location</th>\n",
       "      <th>Year</th>\n",
       "      <th>Kilometers_Driven</th>\n",
       "      <th>Fuel_Type</th>\n",
       "      <th>Transmission</th>\n",
       "      <th>Owner_Type</th>\n",
       "      <th>Mileage</th>\n",
       "      <th>Engine</th>\n",
       "      <th>Power</th>\n",
       "      <th>Seats</th>\n",
       "      <th>New_Price</th>\n",
       "      <th>Price</th>\n",
       "    </tr>\n",
       "  </thead>\n",
       "  <tbody>\n",
       "    <tr>\n",
       "      <th>4132</th>\n",
       "      <td>4132</td>\n",
       "      <td>Maruti Swift Dzire ZXI</td>\n",
       "      <td>Chennai</td>\n",
       "      <td>2017</td>\n",
       "      <td>28000</td>\n",
       "      <td>Petrol</td>\n",
       "      <td>Manual</td>\n",
       "      <td>First</td>\n",
       "      <td>20.85 kmpl</td>\n",
       "      <td>1197 CC</td>\n",
       "      <td>83.14 bhp</td>\n",
       "      <td>5.0</td>\n",
       "      <td>NaN</td>\n",
       "      <td>6.25</td>\n",
       "    </tr>\n",
       "  </tbody>\n",
       "</table>\n",
       "</div>"
      ],
      "text/plain": [
       "      Unnamed: 0                    Name Location  Year  Kilometers_Driven  \\\n",
       "4132        4132  Maruti Swift Dzire ZXI  Chennai  2017              28000   \n",
       "\n",
       "     Fuel_Type Transmission Owner_Type     Mileage   Engine      Power  Seats  \\\n",
       "4132    Petrol       Manual      First  20.85 kmpl  1197 CC  83.14 bhp    5.0   \n",
       "\n",
       "     New_Price  Price  \n",
       "4132       NaN   6.25  "
      ]
     },
     "execution_count": 117,
     "metadata": {},
     "output_type": "execute_result"
    }
   ],
   "source": [
    "df.sample(1)"
   ]
  },
  {
   "cell_type": "markdown",
   "id": "48d336ad",
   "metadata": {},
   "source": [
    "### 3.EDA"
   ]
  },
  {
   "cell_type": "code",
   "execution_count": 118,
   "id": "9202018a",
   "metadata": {},
   "outputs": [
    {
     "name": "stdout",
     "output_type": "stream",
     "text": [
      "<class 'pandas.core.frame.DataFrame'>\n",
      "RangeIndex: 6019 entries, 0 to 6018\n",
      "Data columns (total 14 columns):\n",
      " #   Column             Non-Null Count  Dtype  \n",
      "---  ------             --------------  -----  \n",
      " 0   Unnamed: 0         6019 non-null   int64  \n",
      " 1   Name               6019 non-null   object \n",
      " 2   Location           6019 non-null   object \n",
      " 3   Year               6019 non-null   int64  \n",
      " 4   Kilometers_Driven  6019 non-null   int64  \n",
      " 5   Fuel_Type          6019 non-null   object \n",
      " 6   Transmission       6019 non-null   object \n",
      " 7   Owner_Type         6019 non-null   object \n",
      " 8   Mileage            6017 non-null   object \n",
      " 9   Engine             5983 non-null   object \n",
      " 10  Power              5983 non-null   object \n",
      " 11  Seats              5977 non-null   float64\n",
      " 12  New_Price          824 non-null    object \n",
      " 13  Price              6019 non-null   float64\n",
      "dtypes: float64(2), int64(3), object(9)\n",
      "memory usage: 658.5+ KB\n"
     ]
    }
   ],
   "source": [
    "df.info()"
   ]
  },
  {
   "cell_type": "raw",
   "id": "cf903c71",
   "metadata": {},
   "source": [
    "1. Name - does not have impact on price\n",
    "2. \n",
    "As \"New_Price\" column has more than 80% null values we will excludethat column."
   ]
  },
  {
   "cell_type": "code",
   "execution_count": 119,
   "id": "f49763e0",
   "metadata": {},
   "outputs": [
    {
     "data": {
      "text/html": [
       "<div>\n",
       "<style scoped>\n",
       "    .dataframe tbody tr th:only-of-type {\n",
       "        vertical-align: middle;\n",
       "    }\n",
       "\n",
       "    .dataframe tbody tr th {\n",
       "        vertical-align: top;\n",
       "    }\n",
       "\n",
       "    .dataframe thead th {\n",
       "        text-align: right;\n",
       "    }\n",
       "</style>\n",
       "<table border=\"1\" class=\"dataframe\">\n",
       "  <thead>\n",
       "    <tr style=\"text-align: right;\">\n",
       "      <th></th>\n",
       "      <th>0</th>\n",
       "      <th>1</th>\n",
       "      <th>2</th>\n",
       "      <th>3</th>\n",
       "      <th>4</th>\n",
       "    </tr>\n",
       "  </thead>\n",
       "  <tbody>\n",
       "    <tr>\n",
       "      <th>Unnamed: 0</th>\n",
       "      <td>0</td>\n",
       "      <td>1</td>\n",
       "      <td>2</td>\n",
       "      <td>3</td>\n",
       "      <td>4</td>\n",
       "    </tr>\n",
       "    <tr>\n",
       "      <th>Name</th>\n",
       "      <td>Maruti Wagon R LXI CNG</td>\n",
       "      <td>Hyundai Creta 1.6 CRDi SX Option</td>\n",
       "      <td>Honda Jazz V</td>\n",
       "      <td>Maruti Ertiga VDI</td>\n",
       "      <td>Audi A4 New 2.0 TDI Multitronic</td>\n",
       "    </tr>\n",
       "    <tr>\n",
       "      <th>Location</th>\n",
       "      <td>Mumbai</td>\n",
       "      <td>Pune</td>\n",
       "      <td>Chennai</td>\n",
       "      <td>Chennai</td>\n",
       "      <td>Coimbatore</td>\n",
       "    </tr>\n",
       "    <tr>\n",
       "      <th>Year</th>\n",
       "      <td>2010</td>\n",
       "      <td>2015</td>\n",
       "      <td>2011</td>\n",
       "      <td>2012</td>\n",
       "      <td>2013</td>\n",
       "    </tr>\n",
       "    <tr>\n",
       "      <th>Kilometers_Driven</th>\n",
       "      <td>72000</td>\n",
       "      <td>41000</td>\n",
       "      <td>46000</td>\n",
       "      <td>87000</td>\n",
       "      <td>40670</td>\n",
       "    </tr>\n",
       "    <tr>\n",
       "      <th>Fuel_Type</th>\n",
       "      <td>CNG</td>\n",
       "      <td>Diesel</td>\n",
       "      <td>Petrol</td>\n",
       "      <td>Diesel</td>\n",
       "      <td>Diesel</td>\n",
       "    </tr>\n",
       "    <tr>\n",
       "      <th>Transmission</th>\n",
       "      <td>Manual</td>\n",
       "      <td>Manual</td>\n",
       "      <td>Manual</td>\n",
       "      <td>Manual</td>\n",
       "      <td>Automatic</td>\n",
       "    </tr>\n",
       "    <tr>\n",
       "      <th>Owner_Type</th>\n",
       "      <td>First</td>\n",
       "      <td>First</td>\n",
       "      <td>First</td>\n",
       "      <td>First</td>\n",
       "      <td>Second</td>\n",
       "    </tr>\n",
       "    <tr>\n",
       "      <th>Mileage</th>\n",
       "      <td>26.6 km/kg</td>\n",
       "      <td>19.67 kmpl</td>\n",
       "      <td>18.2 kmpl</td>\n",
       "      <td>20.77 kmpl</td>\n",
       "      <td>15.2 kmpl</td>\n",
       "    </tr>\n",
       "    <tr>\n",
       "      <th>Engine</th>\n",
       "      <td>998 CC</td>\n",
       "      <td>1582 CC</td>\n",
       "      <td>1199 CC</td>\n",
       "      <td>1248 CC</td>\n",
       "      <td>1968 CC</td>\n",
       "    </tr>\n",
       "    <tr>\n",
       "      <th>Power</th>\n",
       "      <td>58.16 bhp</td>\n",
       "      <td>126.2 bhp</td>\n",
       "      <td>88.7 bhp</td>\n",
       "      <td>88.76 bhp</td>\n",
       "      <td>140.8 bhp</td>\n",
       "    </tr>\n",
       "    <tr>\n",
       "      <th>Seats</th>\n",
       "      <td>5.0</td>\n",
       "      <td>5.0</td>\n",
       "      <td>5.0</td>\n",
       "      <td>7.0</td>\n",
       "      <td>5.0</td>\n",
       "    </tr>\n",
       "    <tr>\n",
       "      <th>New_Price</th>\n",
       "      <td>NaN</td>\n",
       "      <td>NaN</td>\n",
       "      <td>8.61 Lakh</td>\n",
       "      <td>NaN</td>\n",
       "      <td>NaN</td>\n",
       "    </tr>\n",
       "    <tr>\n",
       "      <th>Price</th>\n",
       "      <td>1.75</td>\n",
       "      <td>12.5</td>\n",
       "      <td>4.5</td>\n",
       "      <td>6.0</td>\n",
       "      <td>17.74</td>\n",
       "    </tr>\n",
       "  </tbody>\n",
       "</table>\n",
       "</div>"
      ],
      "text/plain": [
       "                                        0                                 1  \\\n",
       "Unnamed: 0                              0                                 1   \n",
       "Name               Maruti Wagon R LXI CNG  Hyundai Creta 1.6 CRDi SX Option   \n",
       "Location                           Mumbai                              Pune   \n",
       "Year                                 2010                              2015   \n",
       "Kilometers_Driven                   72000                             41000   \n",
       "Fuel_Type                             CNG                            Diesel   \n",
       "Transmission                       Manual                            Manual   \n",
       "Owner_Type                          First                             First   \n",
       "Mileage                        26.6 km/kg                        19.67 kmpl   \n",
       "Engine                             998 CC                           1582 CC   \n",
       "Power                           58.16 bhp                         126.2 bhp   \n",
       "Seats                                 5.0                               5.0   \n",
       "New_Price                             NaN                               NaN   \n",
       "Price                                1.75                              12.5   \n",
       "\n",
       "                              2                  3  \\\n",
       "Unnamed: 0                    2                  3   \n",
       "Name               Honda Jazz V  Maruti Ertiga VDI   \n",
       "Location                Chennai            Chennai   \n",
       "Year                       2011               2012   \n",
       "Kilometers_Driven         46000              87000   \n",
       "Fuel_Type                Petrol             Diesel   \n",
       "Transmission             Manual             Manual   \n",
       "Owner_Type                First              First   \n",
       "Mileage               18.2 kmpl         20.77 kmpl   \n",
       "Engine                  1199 CC            1248 CC   \n",
       "Power                  88.7 bhp          88.76 bhp   \n",
       "Seats                       5.0                7.0   \n",
       "New_Price             8.61 Lakh                NaN   \n",
       "Price                       4.5                6.0   \n",
       "\n",
       "                                                 4  \n",
       "Unnamed: 0                                       4  \n",
       "Name               Audi A4 New 2.0 TDI Multitronic  \n",
       "Location                                Coimbatore  \n",
       "Year                                          2013  \n",
       "Kilometers_Driven                            40670  \n",
       "Fuel_Type                                   Diesel  \n",
       "Transmission                             Automatic  \n",
       "Owner_Type                                  Second  \n",
       "Mileage                                  15.2 kmpl  \n",
       "Engine                                     1968 CC  \n",
       "Power                                    140.8 bhp  \n",
       "Seats                                          5.0  \n",
       "New_Price                                      NaN  \n",
       "Price                                        17.74  "
      ]
     },
     "execution_count": 119,
     "metadata": {},
     "output_type": "execute_result"
    }
   ],
   "source": [
    "df.head().T"
   ]
  },
  {
   "cell_type": "code",
   "execution_count": null,
   "id": "ab549bb0",
   "metadata": {},
   "outputs": [],
   "source": []
  },
  {
   "cell_type": "markdown",
   "id": "fd2ef5fe",
   "metadata": {},
   "source": [
    "#### Name"
   ]
  },
  {
   "cell_type": "code",
   "execution_count": 120,
   "id": "efc558d6",
   "metadata": {},
   "outputs": [
    {
     "data": {
      "text/plain": [
       "0                 Maruti Wagon R LXI CNG\n",
       "1       Hyundai Creta 1.6 CRDi SX Option\n",
       "2                           Honda Jazz V\n",
       "3                      Maruti Ertiga VDI\n",
       "4        Audi A4 New 2.0 TDI Multitronic\n",
       "                      ...               \n",
       "6014                    Maruti Swift VDI\n",
       "6015            Hyundai Xcent 1.1 CRDi S\n",
       "6016               Mahindra Xylo D4 BSIV\n",
       "6017                  Maruti Wagon R VXI\n",
       "6018               Chevrolet Beat Diesel\n",
       "Name: Name, Length: 6019, dtype: object"
      ]
     },
     "execution_count": 120,
     "metadata": {},
     "output_type": "execute_result"
    }
   ],
   "source": [
    "df.Name"
   ]
  },
  {
   "cell_type": "code",
   "execution_count": 121,
   "id": "49880c12",
   "metadata": {
    "scrolled": true
   },
   "outputs": [
    {
     "data": {
      "text/plain": [
       "Mahindra XUV500 W8 2WD           49\n",
       "Maruti Swift VDI                 45\n",
       "Honda City 1.5 S MT              34\n",
       "Maruti Swift Dzire VDI           34\n",
       "Maruti Swift VDI BSIV            31\n",
       "                                 ..\n",
       "Ford Fiesta Titanium 1.5 TDCi     1\n",
       "Mahindra Scorpio S10 AT 4WD       1\n",
       "Hyundai i20 1.2 Era               1\n",
       "Toyota Camry W4 (AT)              1\n",
       "Mahindra Xylo D4 BSIV             1\n",
       "Name: Name, Length: 1876, dtype: int64"
      ]
     },
     "execution_count": 121,
     "metadata": {},
     "output_type": "execute_result"
    }
   ],
   "source": [
    "df['Name'].value_counts()"
   ]
  },
  {
   "cell_type": "code",
   "execution_count": 122,
   "id": "4f074282",
   "metadata": {},
   "outputs": [
    {
     "data": {
      "text/plain": [
       "array(['Maruti', 'Hyundai', 'Honda', 'Audi', 'Nissan', 'Toyota',\n",
       "       'Volkswagen', 'Tata', 'Land', 'Mitsubishi', 'Renault', 'Mercedes',\n",
       "       'BMW', 'Mahindra', 'Ford', 'Porsche', 'Datsun', 'Jaguar', 'Volvo',\n",
       "       'Chevrolet', 'Skoda', 'Mini', 'Fiat', 'Jeep', 'Smart',\n",
       "       'Ambassador', 'Isuzu', 'ISUZU', 'Force', 'Bentley', 'Lamborghini'],\n",
       "      dtype=object)"
      ]
     },
     "execution_count": 122,
     "metadata": {},
     "output_type": "execute_result"
    }
   ],
   "source": [
    "df['Name'] = df['Name'].apply(lambda x:(re.search('[A-Za-z]+',x)).group())\n",
    "df.Name.unique()"
   ]
  },
  {
   "cell_type": "code",
   "execution_count": null,
   "id": "48069fc6",
   "metadata": {},
   "outputs": [],
   "source": []
  },
  {
   "cell_type": "code",
   "execution_count": 112,
   "id": "dd8e45bc",
   "metadata": {},
   "outputs": [],
   "source": [
    "df = pd.get_dummies(df, columns = ['Name'])"
   ]
  },
  {
   "cell_type": "code",
   "execution_count": 113,
   "id": "bfe770a2",
   "metadata": {},
   "outputs": [
    {
     "data": {
      "text/html": [
       "<div>\n",
       "<style scoped>\n",
       "    .dataframe tbody tr th:only-of-type {\n",
       "        vertical-align: middle;\n",
       "    }\n",
       "\n",
       "    .dataframe tbody tr th {\n",
       "        vertical-align: top;\n",
       "    }\n",
       "\n",
       "    .dataframe thead th {\n",
       "        text-align: right;\n",
       "    }\n",
       "</style>\n",
       "<table border=\"1\" class=\"dataframe\">\n",
       "  <thead>\n",
       "    <tr style=\"text-align: right;\">\n",
       "      <th></th>\n",
       "      <th>Unnamed: 0</th>\n",
       "      <th>Location</th>\n",
       "      <th>Year</th>\n",
       "      <th>Kilometers_Driven</th>\n",
       "      <th>Fuel_Type</th>\n",
       "      <th>Transmission</th>\n",
       "      <th>Owner_Type</th>\n",
       "      <th>Mileage</th>\n",
       "      <th>Engine</th>\n",
       "      <th>Power</th>\n",
       "      <th>...</th>\n",
       "      <th>Name_Mitsubishi</th>\n",
       "      <th>Name_Nissan</th>\n",
       "      <th>Name_Porsche</th>\n",
       "      <th>Name_Renault</th>\n",
       "      <th>Name_Skoda</th>\n",
       "      <th>Name_Smart</th>\n",
       "      <th>Name_Tata</th>\n",
       "      <th>Name_Toyota</th>\n",
       "      <th>Name_Volkswagen</th>\n",
       "      <th>Name_Volvo</th>\n",
       "    </tr>\n",
       "  </thead>\n",
       "  <tbody>\n",
       "    <tr>\n",
       "      <th>0</th>\n",
       "      <td>0</td>\n",
       "      <td>Mumbai</td>\n",
       "      <td>2010</td>\n",
       "      <td>72000</td>\n",
       "      <td>CNG</td>\n",
       "      <td>Manual</td>\n",
       "      <td>First</td>\n",
       "      <td>26.6 km/kg</td>\n",
       "      <td>998 CC</td>\n",
       "      <td>58.16 bhp</td>\n",
       "      <td>...</td>\n",
       "      <td>0</td>\n",
       "      <td>0</td>\n",
       "      <td>0</td>\n",
       "      <td>0</td>\n",
       "      <td>0</td>\n",
       "      <td>0</td>\n",
       "      <td>0</td>\n",
       "      <td>0</td>\n",
       "      <td>0</td>\n",
       "      <td>0</td>\n",
       "    </tr>\n",
       "    <tr>\n",
       "      <th>1</th>\n",
       "      <td>1</td>\n",
       "      <td>Pune</td>\n",
       "      <td>2015</td>\n",
       "      <td>41000</td>\n",
       "      <td>Diesel</td>\n",
       "      <td>Manual</td>\n",
       "      <td>First</td>\n",
       "      <td>19.67 kmpl</td>\n",
       "      <td>1582 CC</td>\n",
       "      <td>126.2 bhp</td>\n",
       "      <td>...</td>\n",
       "      <td>0</td>\n",
       "      <td>0</td>\n",
       "      <td>0</td>\n",
       "      <td>0</td>\n",
       "      <td>0</td>\n",
       "      <td>0</td>\n",
       "      <td>0</td>\n",
       "      <td>0</td>\n",
       "      <td>0</td>\n",
       "      <td>0</td>\n",
       "    </tr>\n",
       "    <tr>\n",
       "      <th>2</th>\n",
       "      <td>2</td>\n",
       "      <td>Chennai</td>\n",
       "      <td>2011</td>\n",
       "      <td>46000</td>\n",
       "      <td>Petrol</td>\n",
       "      <td>Manual</td>\n",
       "      <td>First</td>\n",
       "      <td>18.2 kmpl</td>\n",
       "      <td>1199 CC</td>\n",
       "      <td>88.7 bhp</td>\n",
       "      <td>...</td>\n",
       "      <td>0</td>\n",
       "      <td>0</td>\n",
       "      <td>0</td>\n",
       "      <td>0</td>\n",
       "      <td>0</td>\n",
       "      <td>0</td>\n",
       "      <td>0</td>\n",
       "      <td>0</td>\n",
       "      <td>0</td>\n",
       "      <td>0</td>\n",
       "    </tr>\n",
       "    <tr>\n",
       "      <th>3</th>\n",
       "      <td>3</td>\n",
       "      <td>Chennai</td>\n",
       "      <td>2012</td>\n",
       "      <td>87000</td>\n",
       "      <td>Diesel</td>\n",
       "      <td>Manual</td>\n",
       "      <td>First</td>\n",
       "      <td>20.77 kmpl</td>\n",
       "      <td>1248 CC</td>\n",
       "      <td>88.76 bhp</td>\n",
       "      <td>...</td>\n",
       "      <td>0</td>\n",
       "      <td>0</td>\n",
       "      <td>0</td>\n",
       "      <td>0</td>\n",
       "      <td>0</td>\n",
       "      <td>0</td>\n",
       "      <td>0</td>\n",
       "      <td>0</td>\n",
       "      <td>0</td>\n",
       "      <td>0</td>\n",
       "    </tr>\n",
       "    <tr>\n",
       "      <th>4</th>\n",
       "      <td>4</td>\n",
       "      <td>Coimbatore</td>\n",
       "      <td>2013</td>\n",
       "      <td>40670</td>\n",
       "      <td>Diesel</td>\n",
       "      <td>Automatic</td>\n",
       "      <td>Second</td>\n",
       "      <td>15.2 kmpl</td>\n",
       "      <td>1968 CC</td>\n",
       "      <td>140.8 bhp</td>\n",
       "      <td>...</td>\n",
       "      <td>0</td>\n",
       "      <td>0</td>\n",
       "      <td>0</td>\n",
       "      <td>0</td>\n",
       "      <td>0</td>\n",
       "      <td>0</td>\n",
       "      <td>0</td>\n",
       "      <td>0</td>\n",
       "      <td>0</td>\n",
       "      <td>0</td>\n",
       "    </tr>\n",
       "    <tr>\n",
       "      <th>...</th>\n",
       "      <td>...</td>\n",
       "      <td>...</td>\n",
       "      <td>...</td>\n",
       "      <td>...</td>\n",
       "      <td>...</td>\n",
       "      <td>...</td>\n",
       "      <td>...</td>\n",
       "      <td>...</td>\n",
       "      <td>...</td>\n",
       "      <td>...</td>\n",
       "      <td>...</td>\n",
       "      <td>...</td>\n",
       "      <td>...</td>\n",
       "      <td>...</td>\n",
       "      <td>...</td>\n",
       "      <td>...</td>\n",
       "      <td>...</td>\n",
       "      <td>...</td>\n",
       "      <td>...</td>\n",
       "      <td>...</td>\n",
       "      <td>...</td>\n",
       "    </tr>\n",
       "    <tr>\n",
       "      <th>6014</th>\n",
       "      <td>6014</td>\n",
       "      <td>Delhi</td>\n",
       "      <td>2014</td>\n",
       "      <td>27365</td>\n",
       "      <td>Diesel</td>\n",
       "      <td>Manual</td>\n",
       "      <td>First</td>\n",
       "      <td>28.4 kmpl</td>\n",
       "      <td>1248 CC</td>\n",
       "      <td>74 bhp</td>\n",
       "      <td>...</td>\n",
       "      <td>0</td>\n",
       "      <td>0</td>\n",
       "      <td>0</td>\n",
       "      <td>0</td>\n",
       "      <td>0</td>\n",
       "      <td>0</td>\n",
       "      <td>0</td>\n",
       "      <td>0</td>\n",
       "      <td>0</td>\n",
       "      <td>0</td>\n",
       "    </tr>\n",
       "    <tr>\n",
       "      <th>6015</th>\n",
       "      <td>6015</td>\n",
       "      <td>Jaipur</td>\n",
       "      <td>2015</td>\n",
       "      <td>100000</td>\n",
       "      <td>Diesel</td>\n",
       "      <td>Manual</td>\n",
       "      <td>First</td>\n",
       "      <td>24.4 kmpl</td>\n",
       "      <td>1120 CC</td>\n",
       "      <td>71 bhp</td>\n",
       "      <td>...</td>\n",
       "      <td>0</td>\n",
       "      <td>0</td>\n",
       "      <td>0</td>\n",
       "      <td>0</td>\n",
       "      <td>0</td>\n",
       "      <td>0</td>\n",
       "      <td>0</td>\n",
       "      <td>0</td>\n",
       "      <td>0</td>\n",
       "      <td>0</td>\n",
       "    </tr>\n",
       "    <tr>\n",
       "      <th>6016</th>\n",
       "      <td>6016</td>\n",
       "      <td>Jaipur</td>\n",
       "      <td>2012</td>\n",
       "      <td>55000</td>\n",
       "      <td>Diesel</td>\n",
       "      <td>Manual</td>\n",
       "      <td>Second</td>\n",
       "      <td>14.0 kmpl</td>\n",
       "      <td>2498 CC</td>\n",
       "      <td>112 bhp</td>\n",
       "      <td>...</td>\n",
       "      <td>0</td>\n",
       "      <td>0</td>\n",
       "      <td>0</td>\n",
       "      <td>0</td>\n",
       "      <td>0</td>\n",
       "      <td>0</td>\n",
       "      <td>0</td>\n",
       "      <td>0</td>\n",
       "      <td>0</td>\n",
       "      <td>0</td>\n",
       "    </tr>\n",
       "    <tr>\n",
       "      <th>6017</th>\n",
       "      <td>6017</td>\n",
       "      <td>Kolkata</td>\n",
       "      <td>2013</td>\n",
       "      <td>46000</td>\n",
       "      <td>Petrol</td>\n",
       "      <td>Manual</td>\n",
       "      <td>First</td>\n",
       "      <td>18.9 kmpl</td>\n",
       "      <td>998 CC</td>\n",
       "      <td>67.1 bhp</td>\n",
       "      <td>...</td>\n",
       "      <td>0</td>\n",
       "      <td>0</td>\n",
       "      <td>0</td>\n",
       "      <td>0</td>\n",
       "      <td>0</td>\n",
       "      <td>0</td>\n",
       "      <td>0</td>\n",
       "      <td>0</td>\n",
       "      <td>0</td>\n",
       "      <td>0</td>\n",
       "    </tr>\n",
       "    <tr>\n",
       "      <th>6018</th>\n",
       "      <td>6018</td>\n",
       "      <td>Hyderabad</td>\n",
       "      <td>2011</td>\n",
       "      <td>47000</td>\n",
       "      <td>Diesel</td>\n",
       "      <td>Manual</td>\n",
       "      <td>First</td>\n",
       "      <td>25.44 kmpl</td>\n",
       "      <td>936 CC</td>\n",
       "      <td>57.6 bhp</td>\n",
       "      <td>...</td>\n",
       "      <td>0</td>\n",
       "      <td>0</td>\n",
       "      <td>0</td>\n",
       "      <td>0</td>\n",
       "      <td>0</td>\n",
       "      <td>0</td>\n",
       "      <td>0</td>\n",
       "      <td>0</td>\n",
       "      <td>0</td>\n",
       "      <td>0</td>\n",
       "    </tr>\n",
       "  </tbody>\n",
       "</table>\n",
       "<p>6019 rows × 44 columns</p>\n",
       "</div>"
      ],
      "text/plain": [
       "      Unnamed: 0    Location  Year  Kilometers_Driven Fuel_Type Transmission  \\\n",
       "0              0      Mumbai  2010              72000       CNG       Manual   \n",
       "1              1        Pune  2015              41000    Diesel       Manual   \n",
       "2              2     Chennai  2011              46000    Petrol       Manual   \n",
       "3              3     Chennai  2012              87000    Diesel       Manual   \n",
       "4              4  Coimbatore  2013              40670    Diesel    Automatic   \n",
       "...          ...         ...   ...                ...       ...          ...   \n",
       "6014        6014       Delhi  2014              27365    Diesel       Manual   \n",
       "6015        6015      Jaipur  2015             100000    Diesel       Manual   \n",
       "6016        6016      Jaipur  2012              55000    Diesel       Manual   \n",
       "6017        6017     Kolkata  2013              46000    Petrol       Manual   \n",
       "6018        6018   Hyderabad  2011              47000    Diesel       Manual   \n",
       "\n",
       "     Owner_Type     Mileage   Engine      Power  ...  Name_Mitsubishi  \\\n",
       "0         First  26.6 km/kg   998 CC  58.16 bhp  ...                0   \n",
       "1         First  19.67 kmpl  1582 CC  126.2 bhp  ...                0   \n",
       "2         First   18.2 kmpl  1199 CC   88.7 bhp  ...                0   \n",
       "3         First  20.77 kmpl  1248 CC  88.76 bhp  ...                0   \n",
       "4        Second   15.2 kmpl  1968 CC  140.8 bhp  ...                0   \n",
       "...         ...         ...      ...        ...  ...              ...   \n",
       "6014      First   28.4 kmpl  1248 CC     74 bhp  ...                0   \n",
       "6015      First   24.4 kmpl  1120 CC     71 bhp  ...                0   \n",
       "6016     Second   14.0 kmpl  2498 CC    112 bhp  ...                0   \n",
       "6017      First   18.9 kmpl   998 CC   67.1 bhp  ...                0   \n",
       "6018      First  25.44 kmpl   936 CC   57.6 bhp  ...                0   \n",
       "\n",
       "     Name_Nissan  Name_Porsche  Name_Renault  Name_Skoda  Name_Smart  \\\n",
       "0              0             0             0           0           0   \n",
       "1              0             0             0           0           0   \n",
       "2              0             0             0           0           0   \n",
       "3              0             0             0           0           0   \n",
       "4              0             0             0           0           0   \n",
       "...          ...           ...           ...         ...         ...   \n",
       "6014           0             0             0           0           0   \n",
       "6015           0             0             0           0           0   \n",
       "6016           0             0             0           0           0   \n",
       "6017           0             0             0           0           0   \n",
       "6018           0             0             0           0           0   \n",
       "\n",
       "      Name_Tata  Name_Toyota  Name_Volkswagen  Name_Volvo  \n",
       "0             0            0                0           0  \n",
       "1             0            0                0           0  \n",
       "2             0            0                0           0  \n",
       "3             0            0                0           0  \n",
       "4             0            0                0           0  \n",
       "...         ...          ...              ...         ...  \n",
       "6014          0            0                0           0  \n",
       "6015          0            0                0           0  \n",
       "6016          0            0                0           0  \n",
       "6017          0            0                0           0  \n",
       "6018          0            0                0           0  \n",
       "\n",
       "[6019 rows x 44 columns]"
      ]
     },
     "execution_count": 113,
     "metadata": {},
     "output_type": "execute_result"
    }
   ],
   "source": [
    "df"
   ]
  },
  {
   "cell_type": "markdown",
   "id": "44bbbee3",
   "metadata": {},
   "source": [
    "#### Location"
   ]
  },
  {
   "cell_type": "code",
   "execution_count": 114,
   "id": "8b50a193",
   "metadata": {},
   "outputs": [
    {
     "data": {
      "text/plain": [
       "array(['Mumbai', 'Pune', 'Chennai', 'Coimbatore', 'Hyderabad', 'Jaipur',\n",
       "       'Kochi', 'Kolkata', 'Delhi', 'Bangalore', 'Ahmedabad'],\n",
       "      dtype=object)"
      ]
     },
     "execution_count": 114,
     "metadata": {},
     "output_type": "execute_result"
    }
   ],
   "source": [
    "df.Location.unique()"
   ]
  },
  {
   "cell_type": "code",
   "execution_count": 16,
   "id": "ab868432",
   "metadata": {},
   "outputs": [],
   "source": [
    "df = pd.get_dummies(df, columns = ['Location'])"
   ]
  },
  {
   "cell_type": "markdown",
   "id": "de756ab4",
   "metadata": {},
   "source": [
    "#### KM Driven"
   ]
  },
  {
   "cell_type": "code",
   "execution_count": 17,
   "id": "8071db0b",
   "metadata": {},
   "outputs": [
    {
     "data": {
      "text/plain": [
       "0        72000\n",
       "1        41000\n",
       "2        46000\n",
       "3        87000\n",
       "4        40670\n",
       "         ...  \n",
       "6014     27365\n",
       "6015    100000\n",
       "6016     55000\n",
       "6017     46000\n",
       "6018     47000\n",
       "Name: Kilometers_Driven, Length: 6019, dtype: int64"
      ]
     },
     "execution_count": 17,
     "metadata": {},
     "output_type": "execute_result"
    }
   ],
   "source": [
    "df['Kilometers_Driven']"
   ]
  },
  {
   "cell_type": "markdown",
   "id": "fdc18a95",
   "metadata": {},
   "source": [
    "#### Fuel_Type"
   ]
  },
  {
   "cell_type": "code",
   "execution_count": 18,
   "id": "44aee73f",
   "metadata": {},
   "outputs": [
    {
     "data": {
      "text/plain": [
       "Diesel      3205\n",
       "Petrol      2746\n",
       "CNG           56\n",
       "LPG           10\n",
       "Electric       2\n",
       "Name: Fuel_Type, dtype: int64"
      ]
     },
     "execution_count": 18,
     "metadata": {},
     "output_type": "execute_result"
    }
   ],
   "source": [
    "df.Fuel_Type.value_counts()"
   ]
  },
  {
   "cell_type": "raw",
   "id": "09df5be1",
   "metadata": {},
   "source": [
    "ordered labels\n",
    "\n",
    "petrol\n",
    "diesel\n",
    "lpg\n",
    "cng\n",
    "Electric"
   ]
  },
  {
   "cell_type": "raw",
   "id": "ad7675b7",
   "metadata": {},
   "source": [
    "df = pd.get_dummies(df, columns = ['Fuel_Type'])"
   ]
  },
  {
   "cell_type": "code",
   "execution_count": 19,
   "id": "8ad2254a",
   "metadata": {},
   "outputs": [],
   "source": [
    "df['Fuel_Type'] = df['Fuel_Type'].replace({'Petrol' : 0  , 'Diesel' :1 ,'CNG'  : 3 ,\n",
    "                                           'LPG': 2 ,'Electric' : 4 })"
   ]
  },
  {
   "cell_type": "markdown",
   "id": "f2cc9801",
   "metadata": {},
   "source": [
    "#### Transmission"
   ]
  },
  {
   "cell_type": "code",
   "execution_count": 20,
   "id": "db12dcef",
   "metadata": {},
   "outputs": [
    {
     "data": {
      "text/plain": [
       "Manual       4299\n",
       "Automatic    1720\n",
       "Name: Transmission, dtype: int64"
      ]
     },
     "execution_count": 20,
     "metadata": {},
     "output_type": "execute_result"
    }
   ],
   "source": [
    "df.Transmission.value_counts()"
   ]
  },
  {
   "cell_type": "code",
   "execution_count": 21,
   "id": "5f2df527",
   "metadata": {},
   "outputs": [],
   "source": [
    "df.Transmission.replace({'Manual':0, 'Automatic':1}, inplace = True)"
   ]
  },
  {
   "cell_type": "markdown",
   "id": "73fe7306",
   "metadata": {},
   "source": [
    "#### Owner_Type"
   ]
  },
  {
   "cell_type": "code",
   "execution_count": 22,
   "id": "3fd59fdf",
   "metadata": {},
   "outputs": [
    {
     "data": {
      "text/plain": [
       "First             4929\n",
       "Second             968\n",
       "Third              113\n",
       "Fourth & Above       9\n",
       "Name: Owner_Type, dtype: int64"
      ]
     },
     "execution_count": 22,
     "metadata": {},
     "output_type": "execute_result"
    }
   ],
   "source": [
    "df.Owner_Type.value_counts()"
   ]
  },
  {
   "cell_type": "code",
   "execution_count": 23,
   "id": "f0874762",
   "metadata": {},
   "outputs": [],
   "source": [
    "df.Owner_Type.replace({'First' :1, 'Second' :2, 'Third' :3 , 'Fourth & Above' : 4} , inplace = True)"
   ]
  },
  {
   "cell_type": "code",
   "execution_count": 24,
   "id": "17d27343",
   "metadata": {},
   "outputs": [
    {
     "data": {
      "text/plain": [
       "0       1\n",
       "1       1\n",
       "2       1\n",
       "3       1\n",
       "4       2\n",
       "       ..\n",
       "6014    1\n",
       "6015    1\n",
       "6016    2\n",
       "6017    1\n",
       "6018    1\n",
       "Name: Owner_Type, Length: 6019, dtype: int64"
      ]
     },
     "execution_count": 24,
     "metadata": {},
     "output_type": "execute_result"
    }
   ],
   "source": [
    "df.Owner_Type"
   ]
  },
  {
   "cell_type": "markdown",
   "id": "627dd070",
   "metadata": {},
   "source": [
    "#### Mileage"
   ]
  },
  {
   "cell_type": "code",
   "execution_count": 25,
   "id": "1b186471",
   "metadata": {},
   "outputs": [
    {
     "data": {
      "text/plain": [
       "0       26.6 km/kg\n",
       "1       19.67 kmpl\n",
       "2        18.2 kmpl\n",
       "3       20.77 kmpl\n",
       "4        15.2 kmpl\n",
       "           ...    \n",
       "6014     28.4 kmpl\n",
       "6015     24.4 kmpl\n",
       "6016     14.0 kmpl\n",
       "6017     18.9 kmpl\n",
       "6018    25.44 kmpl\n",
       "Name: Mileage, Length: 6019, dtype: object"
      ]
     },
     "execution_count": 25,
     "metadata": {},
     "output_type": "execute_result"
    }
   ],
   "source": [
    "df.Mileage"
   ]
  },
  {
   "cell_type": "code",
   "execution_count": 26,
   "id": "52964a1c",
   "metadata": {},
   "outputs": [
    {
     "data": {
      "text/plain": [
       "False    6017\n",
       "True        2\n",
       "Name: Mileage, dtype: int64"
      ]
     },
     "execution_count": 26,
     "metadata": {},
     "output_type": "execute_result"
    }
   ],
   "source": [
    "df.Mileage.isnull().value_counts()"
   ]
  },
  {
   "cell_type": "code",
   "execution_count": 27,
   "id": "f54cffa3",
   "metadata": {},
   "outputs": [
    {
     "data": {
      "text/plain": [
       "4446    NaN\n",
       "4904    NaN\n",
       "Name: Mileage, dtype: object"
      ]
     },
     "execution_count": 27,
     "metadata": {},
     "output_type": "execute_result"
    }
   ],
   "source": [
    "null_index = df['Mileage'].loc[df['Mileage'].isna() == True].index\n",
    "df['Mileage'][null_index]"
   ]
  },
  {
   "cell_type": "code",
   "execution_count": 28,
   "id": "7eb03b88",
   "metadata": {},
   "outputs": [
    {
     "data": {
      "text/plain": [
       "Int64Index([   0,    1,    2,    3,    4,    5,    6,    7,    8,    9,\n",
       "            ...\n",
       "            6009, 6010, 6011, 6012, 6013, 6014, 6015, 6016, 6017, 6018],\n",
       "           dtype='int64', length=6017)"
      ]
     },
     "execution_count": 28,
     "metadata": {},
     "output_type": "execute_result"
    }
   ],
   "source": [
    "index = df['Mileage'].loc[df['Mileage'].isna() == False].index\n",
    "index"
   ]
  },
  {
   "cell_type": "code",
   "execution_count": 29,
   "id": "af3cfd3f",
   "metadata": {},
   "outputs": [
    {
     "name": "stderr",
     "output_type": "stream",
     "text": [
      "C:\\Users\\Admin\\AppData\\Local\\Temp\\ipykernel_8820\\1053831193.py:2: SettingWithCopyWarning: \n",
      "A value is trying to be set on a copy of a slice from a DataFrame\n",
      "\n",
      "See the caveats in the documentation: https://pandas.pydata.org/pandas-docs/stable/user_guide/indexing.html#returning-a-view-versus-a-copy\n",
      "  df['Mileage'][index] = df['Mileage'][index].apply(f_mileage)\n"
     ]
    }
   ],
   "source": [
    "f_mileage = lambda x:(re.search('[0-9.]+',str(x)).group())\n",
    "df['Mileage'][index] = df['Mileage'][index].apply(f_mileage)"
   ]
  },
  {
   "cell_type": "code",
   "execution_count": 30,
   "id": "883ccbc1",
   "metadata": {},
   "outputs": [],
   "source": [
    "tru_mileage = df['Mileage'][index].astype(float)"
   ]
  },
  {
   "cell_type": "code",
   "execution_count": 31,
   "id": "684623fb",
   "metadata": {},
   "outputs": [],
   "source": [
    "zs = zscore(tru_mileage)"
   ]
  },
  {
   "cell_type": "code",
   "execution_count": 32,
   "id": "30795644",
   "metadata": {},
   "outputs": [
    {
     "data": {
      "text/plain": [
       "array([1269, 1332, 2059, 2371, 3119, 3129, 3553, 3869, 4141, 4768, 5933],\n",
       "      dtype=int64)"
      ]
     },
     "execution_count": 32,
     "metadata": {},
     "output_type": "execute_result"
    }
   ],
   "source": [
    "oindex = np.where(np.abs(zs>3))[0]       # Outlier Detection\n",
    "oindex"
   ]
  },
  {
   "cell_type": "code",
   "execution_count": 33,
   "id": "e49ca402",
   "metadata": {},
   "outputs": [
    {
     "data": {
      "text/plain": [
       "<AxesSubplot: >"
      ]
     },
     "execution_count": 33,
     "metadata": {},
     "output_type": "execute_result"
    },
    {
     "data": {
      "image/png": "[encoded data removed]",
      "text/plain": [
       "<Figure size 400x200 with 1 Axes>"
      ]
     },
     "metadata": {},
     "output_type": "display_data"
    }
   ],
   "source": [
    "plt.figure(figsize = (4,2))              # Outlier Detection\n",
    "sns.boxplot(tru_mileage)"
   ]
  },
  {
   "cell_type": "code",
   "execution_count": 34,
   "id": "9e7bdab4",
   "metadata": {},
   "outputs": [
    {
     "name": "stdout",
     "output_type": "stream",
     "text": [
      "6.274999999999997 29.995000000000005\n"
     ]
    }
   ],
   "source": [
    "q1= np.quantile(tru_mileage,0.25)\n",
    "q3= np.quantile(tru_mileage,0.75)\n",
    "iqr = q3 - q1\n",
    "lower_tail = q1 - 1.5*iqr\n",
    "upper_tail = q3 + 1.5*iqr\n",
    "print (lower_tail , upper_tail)"
   ]
  },
  {
   "cell_type": "code",
   "execution_count": 35,
   "id": "7df73c02",
   "metadata": {},
   "outputs": [],
   "source": [
    "tru_mileage = np.where(tru_mileage < lower_tail , lower_tail , tru_mileage )\n",
    "tru_mileage = np.where(tru_mileage > upper_tail , upper_tail , tru_mileage )"
   ]
  },
  {
   "cell_type": "code",
   "execution_count": 36,
   "id": "e0959a7c",
   "metadata": {},
   "outputs": [
    {
     "data": {
      "text/plain": [
       "<AxesSubplot: >"
      ]
     },
     "execution_count": 36,
     "metadata": {},
     "output_type": "execute_result"
    },
    {
     "data": {
      "image/png": "[encoded data removed]",
      "text/plain": [
       "<Figure size 400x200 with 1 Axes>"
      ]
     },
     "metadata": {},
     "output_type": "display_data"
    }
   ],
   "source": [
    "plt.figure(figsize = (4,2))\n",
    "sns.boxplot(tru_mileage)"
   ]
  },
  {
   "cell_type": "code",
   "execution_count": 37,
   "id": "4cc281a7",
   "metadata": {},
   "outputs": [
    {
     "name": "stderr",
     "output_type": "stream",
     "text": [
      "C:\\Users\\Admin\\AppData\\Local\\Temp\\ipykernel_8820\\2185611869.py:1: SettingWithCopyWarning: \n",
      "A value is trying to be set on a copy of a slice from a DataFrame\n",
      "\n",
      "See the caveats in the documentation: https://pandas.pydata.org/pandas-docs/stable/user_guide/indexing.html#returning-a-view-versus-a-copy\n",
      "  df['Mileage'][index] = tru_mileage\n"
     ]
    }
   ],
   "source": [
    "df['Mileage'][index] = tru_mileage"
   ]
  },
  {
   "cell_type": "code",
   "execution_count": 38,
   "id": "72ba8c03",
   "metadata": {},
   "outputs": [
    {
     "data": {
      "text/plain": [
       "<AxesSubplot: >"
      ]
     },
     "execution_count": 38,
     "metadata": {},
     "output_type": "execute_result"
    },
    {
     "data": {
      "image/png": "[encoded data removed]",
      "text/plain": [
       "<Figure size 400x200 with 1 Axes>"
      ]
     },
     "metadata": {},
     "output_type": "display_data"
    }
   ],
   "source": [
    "plt.figure(figsize = (4,2))\n",
    "sns.boxplot(df['Mileage'])"
   ]
  },
  {
   "cell_type": "code",
   "execution_count": 39,
   "id": "cb505a55",
   "metadata": {},
   "outputs": [
    {
     "data": {
      "text/plain": [
       "False    6017\n",
       "True        2\n",
       "Name: Mileage, dtype: int64"
      ]
     },
     "execution_count": 39,
     "metadata": {},
     "output_type": "execute_result"
    }
   ],
   "source": [
    "df['Mileage'].isna().value_counts()"
   ]
  },
  {
   "cell_type": "code",
   "execution_count": 40,
   "id": "c909a288",
   "metadata": {},
   "outputs": [],
   "source": [
    "kni_mileage = KNNImputer(n_neighbors = 3)\n",
    "arr = kni_mileage.fit_transform(df[['Mileage']])\n",
    "df['Mileage'] = pd.DataFrame(arr , columns = ['Mileage'])"
   ]
  },
  {
   "cell_type": "code",
   "execution_count": 41,
   "id": "8095553e",
   "metadata": {},
   "outputs": [
    {
     "data": {
      "text/plain": [
       "0       26.60\n",
       "1       19.67\n",
       "2       18.20\n",
       "3       20.77\n",
       "4       15.20\n",
       "        ...  \n",
       "6014    28.40\n",
       "6015    24.40\n",
       "6016    14.00\n",
       "6017    18.90\n",
       "6018    25.44\n",
       "Name: Mileage, Length: 6019, dtype: float64"
      ]
     },
     "execution_count": 41,
     "metadata": {},
     "output_type": "execute_result"
    }
   ],
   "source": [
    "df.Mileage.isna().sum()\n",
    "df.Mileage"
   ]
  },
  {
   "cell_type": "markdown",
   "id": "87c98ec3",
   "metadata": {},
   "source": [
    "#### Engine"
   ]
  },
  {
   "cell_type": "code",
   "execution_count": 42,
   "id": "699fe69b",
   "metadata": {},
   "outputs": [
    {
     "data": {
      "text/plain": [
       "False    5983\n",
       "True       36\n",
       "Name: Engine, dtype: int64"
      ]
     },
     "execution_count": 42,
     "metadata": {},
     "output_type": "execute_result"
    }
   ],
   "source": [
    "df.Engine.isna().value_counts()"
   ]
  },
  {
   "cell_type": "code",
   "execution_count": 43,
   "id": "728b8cca",
   "metadata": {},
   "outputs": [
    {
     "data": {
      "text/plain": [
       "False    5983\n",
       "True       36\n",
       "Name: Engine, dtype: int64"
      ]
     },
     "execution_count": 43,
     "metadata": {},
     "output_type": "execute_result"
    }
   ],
   "source": [
    "df.Engine.isna().value_counts()"
   ]
  },
  {
   "cell_type": "code",
   "execution_count": 44,
   "id": "a4643616",
   "metadata": {},
   "outputs": [],
   "source": [
    "engine_index = df['Engine'].loc[df['Engine'].isna() == False].index"
   ]
  },
  {
   "cell_type": "code",
   "execution_count": 45,
   "id": "3454f56d",
   "metadata": {},
   "outputs": [
    {
     "name": "stderr",
     "output_type": "stream",
     "text": [
      "C:\\Users\\Admin\\AppData\\Local\\Temp\\ipykernel_8820\\3587466427.py:2: SettingWithCopyWarning: \n",
      "A value is trying to be set on a copy of a slice from a DataFrame\n",
      "\n",
      "See the caveats in the documentation: https://pandas.pydata.org/pandas-docs/stable/user_guide/indexing.html#returning-a-view-versus-a-copy\n",
      "  df['Engine'][engine_index] = df['Engine'][engine_index].apply(engine_function)\n"
     ]
    }
   ],
   "source": [
    "engine_function = lambda x:( re.search('[0-9.]+' , str(x)).group())\n",
    "df['Engine'][engine_index] = df['Engine'][engine_index].apply(engine_function)"
   ]
  },
  {
   "cell_type": "code",
   "execution_count": 46,
   "id": "f02884c9",
   "metadata": {},
   "outputs": [
    {
     "data": {
      "text/plain": [
       "<AxesSubplot: xlabel='Engine', ylabel='Density'>"
      ]
     },
     "execution_count": 46,
     "metadata": {},
     "output_type": "execute_result"
    },
    {
     "data": {
      "image/png": "[encoded data removed]",
      "text/plain": [
       "<Figure size 640x480 with 1 Axes>"
      ]
     },
     "metadata": {},
     "output_type": "display_data"
    }
   ],
   "source": [
    "tru_engine = df['Engine'][engine_index].astype(float)\n",
    "sns.kdeplot(tru_engine)"
   ]
  },
  {
   "cell_type": "code",
   "execution_count": 47,
   "id": "3daab8b2",
   "metadata": {},
   "outputs": [],
   "source": [
    "zs_engine = zscore(tru_engine)"
   ]
  },
  {
   "cell_type": "code",
   "execution_count": 48,
   "id": "dacba759",
   "metadata": {},
   "outputs": [
    {
     "data": {
      "text/plain": [
       "array([  70,  152,  457,  584,  587,  691,  794,  922, 1034, 1089, 1346,\n",
       "       1588, 1922, 2090, 2294, 2664, 2958, 3045, 3222, 3320, 3556, 4013,\n",
       "       4110, 4314, 4360, 4423, 4531, 4597, 4661, 4690, 4789, 4837, 4906,\n",
       "       5054, 5305, 5378, 5380, 5485, 5567, 5692, 5745, 5849, 5883, 5975],\n",
       "      dtype=int64)"
      ]
     },
     "execution_count": 48,
     "metadata": {},
     "output_type": "execute_result"
    }
   ],
   "source": [
    "engine_outlier_index = np.where(np.abs(zs_engine)>3)[0]   # Outlier Detection\n",
    "engine_outlier_index"
   ]
  },
  {
   "cell_type": "code",
   "execution_count": 49,
   "id": "a05434a1",
   "metadata": {},
   "outputs": [
    {
     "data": {
      "text/plain": [
       "<AxesSubplot: >"
      ]
     },
     "execution_count": 49,
     "metadata": {},
     "output_type": "execute_result"
    },
    {
     "data": {
      "image/png": "[encoded data removed]",
      "text/plain": [
       "<Figure size 400x200 with 1 Axes>"
      ]
     },
     "metadata": {},
     "output_type": "display_data"
    }
   ],
   "source": [
    "plt.figure(figsize = (4,2))              # Outlier Detection\n",
    "sns.boxplot(tru_engine)"
   ]
  },
  {
   "cell_type": "code",
   "execution_count": 50,
   "id": "0bde85da",
   "metadata": {},
   "outputs": [
    {
     "name": "stdout",
     "output_type": "stream",
     "text": [
      "19.0 3163.0\n"
     ]
    }
   ],
   "source": [
    "e1 = np.quantile(tru_engine, 0.25)\n",
    "e3 = np.quantile(tru_engine , 0.75)\n",
    "eiqr = 1.5* (e3 - e1)\n",
    "le_tail = e1 - eiqr\n",
    "ue_tail = e3 + eiqr\n",
    "print(le_tail , ue_tail)"
   ]
  },
  {
   "cell_type": "code",
   "execution_count": 51,
   "id": "ee0c5c4d",
   "metadata": {},
   "outputs": [],
   "source": [
    "tru_engine = np.where(tru_engine<le_tail , le_tail, tru_engine)\n",
    "tru_engine = np.where(tru_engine>ue_tail , ue_tail, tru_engine)"
   ]
  },
  {
   "cell_type": "code",
   "execution_count": 52,
   "id": "d2f8e0c9",
   "metadata": {},
   "outputs": [
    {
     "name": "stderr",
     "output_type": "stream",
     "text": [
      "C:\\Users\\Admin\\AppData\\Local\\Temp\\ipykernel_8820\\4265887768.py:1: SettingWithCopyWarning: \n",
      "A value is trying to be set on a copy of a slice from a DataFrame\n",
      "\n",
      "See the caveats in the documentation: https://pandas.pydata.org/pandas-docs/stable/user_guide/indexing.html#returning-a-view-versus-a-copy\n",
      "  df['Engine'][engine_index] = tru_engine\n"
     ]
    }
   ],
   "source": [
    "df['Engine'][engine_index] = tru_engine"
   ]
  },
  {
   "cell_type": "code",
   "execution_count": 53,
   "id": "5a3d68e6",
   "metadata": {},
   "outputs": [
    {
     "data": {
      "text/plain": [
       "<AxesSubplot: >"
      ]
     },
     "execution_count": 53,
     "metadata": {},
     "output_type": "execute_result"
    },
    {
     "data": {
      "image/png": "[encoded data removed]",
      "text/plain": [
       "<Figure size 400x200 with 1 Axes>"
      ]
     },
     "metadata": {},
     "output_type": "display_data"
    }
   ],
   "source": [
    "plt.figure(figsize = (4,2))  \n",
    "sns.boxplot(df['Engine'])"
   ]
  },
  {
   "cell_type": "code",
   "execution_count": 54,
   "id": "04fa3cc9",
   "metadata": {},
   "outputs": [
    {
     "data": {
      "text/plain": [
       "36"
      ]
     },
     "execution_count": 54,
     "metadata": {},
     "output_type": "execute_result"
    }
   ],
   "source": [
    "df['Engine'].isna().sum()"
   ]
  },
  {
   "cell_type": "code",
   "execution_count": 55,
   "id": "bc7e63f2",
   "metadata": {},
   "outputs": [],
   "source": [
    "kni_engine = KNNImputer(n_neighbors = 3)\n",
    "arr_eng = kni_engine.fit_transform(df[['Engine']])\n",
    "df['Engine'] = pd.DataFrame(arr_eng , columns = ['Engine'])"
   ]
  },
  {
   "cell_type": "code",
   "execution_count": 56,
   "id": "d8443159",
   "metadata": {},
   "outputs": [
    {
     "data": {
      "text/plain": [
       "0"
      ]
     },
     "execution_count": 56,
     "metadata": {},
     "output_type": "execute_result"
    }
   ],
   "source": [
    "df['Engine'].isna().sum()"
   ]
  },
  {
   "cell_type": "markdown",
   "id": "a1573f21",
   "metadata": {},
   "source": [
    "#### Power"
   ]
  },
  {
   "cell_type": "code",
   "execution_count": 57,
   "id": "2b683cc3",
   "metadata": {},
   "outputs": [
    {
     "data": {
      "text/plain": [
       "0       58.16 bhp\n",
       "1       126.2 bhp\n",
       "2        88.7 bhp\n",
       "3       88.76 bhp\n",
       "4       140.8 bhp\n",
       "          ...    \n",
       "6014       74 bhp\n",
       "6015       71 bhp\n",
       "6016      112 bhp\n",
       "6017     67.1 bhp\n",
       "6018     57.6 bhp\n",
       "Name: Power, Length: 6019, dtype: object"
      ]
     },
     "execution_count": 57,
     "metadata": {},
     "output_type": "execute_result"
    }
   ],
   "source": [
    "df['Power']"
   ]
  },
  {
   "cell_type": "code",
   "execution_count": 58,
   "id": "99d10978",
   "metadata": {},
   "outputs": [],
   "source": [
    "df['Power'].replace({'null bhp' : np.nan } , inplace = True)"
   ]
  },
  {
   "cell_type": "code",
   "execution_count": 59,
   "id": "c3d6d0f4",
   "metadata": {},
   "outputs": [
    {
     "data": {
      "text/plain": [
       "Int64Index([   0,    1,    2,    3,    4,    5,    6,    7,    8,    9,\n",
       "            ...\n",
       "            6009, 6010, 6011, 6012, 6013, 6014, 6015, 6016, 6017, 6018],\n",
       "           dtype='int64', length=5876)"
      ]
     },
     "execution_count": 59,
     "metadata": {},
     "output_type": "execute_result"
    }
   ],
   "source": [
    "power_index = df['Power'].loc[df['Power'].isna() == False].index\n",
    "power_index"
   ]
  },
  {
   "cell_type": "code",
   "execution_count": 60,
   "id": "b5d55090",
   "metadata": {},
   "outputs": [
    {
     "data": {
      "text/plain": [
       "0       58.16 bhp\n",
       "1       126.2 bhp\n",
       "2        88.7 bhp\n",
       "3       88.76 bhp\n",
       "4       140.8 bhp\n",
       "          ...    \n",
       "6014       74 bhp\n",
       "6015       71 bhp\n",
       "6016      112 bhp\n",
       "6017     67.1 bhp\n",
       "6018     57.6 bhp\n",
       "Name: Power, Length: 6019, dtype: object"
      ]
     },
     "execution_count": 60,
     "metadata": {},
     "output_type": "execute_result"
    }
   ],
   "source": [
    "df['Power']"
   ]
  },
  {
   "cell_type": "code",
   "execution_count": 61,
   "id": "52db6a06",
   "metadata": {},
   "outputs": [
    {
     "data": {
      "text/plain": [
       "0       58.16 bhp\n",
       "1       126.2 bhp\n",
       "2        88.7 bhp\n",
       "3       88.76 bhp\n",
       "4       140.8 bhp\n",
       "          ...    \n",
       "6014       74 bhp\n",
       "6015       71 bhp\n",
       "6016      112 bhp\n",
       "6017     67.1 bhp\n",
       "6018     57.6 bhp\n",
       "Name: Power, Length: 5876, dtype: object"
      ]
     },
     "execution_count": 61,
     "metadata": {},
     "output_type": "execute_result"
    }
   ],
   "source": [
    "df['Power'][power_index]"
   ]
  },
  {
   "cell_type": "code",
   "execution_count": null,
   "id": "ab2e8b58",
   "metadata": {},
   "outputs": [],
   "source": []
  },
  {
   "cell_type": "code",
   "execution_count": 62,
   "id": "d8576ed2",
   "metadata": {},
   "outputs": [
    {
     "name": "stderr",
     "output_type": "stream",
     "text": [
      "C:\\Users\\Admin\\AppData\\Local\\Temp\\ipykernel_8820\\601399361.py:2: SettingWithCopyWarning: \n",
      "A value is trying to be set on a copy of a slice from a DataFrame\n",
      "\n",
      "See the caveats in the documentation: https://pandas.pydata.org/pandas-docs/stable/user_guide/indexing.html#returning-a-view-versus-a-copy\n",
      "  df['Power'][power_index] = df['Power'][power_index].apply(power_function)\n"
     ]
    }
   ],
   "source": [
    "power_function = lambda x:(re.search('[0-9.]+',str(x)).group())\n",
    "df['Power'][power_index] = df['Power'][power_index].apply(power_function)"
   ]
  },
  {
   "cell_type": "code",
   "execution_count": 63,
   "id": "809a8b68",
   "metadata": {},
   "outputs": [
    {
     "data": {
      "text/plain": [
       "0       58.16\n",
       "1       126.2\n",
       "2        88.7\n",
       "3       88.76\n",
       "4       140.8\n",
       "        ...  \n",
       "6014       74\n",
       "6015       71\n",
       "6016      112\n",
       "6017     67.1\n",
       "6018     57.6\n",
       "Name: Power, Length: 5876, dtype: object"
      ]
     },
     "execution_count": 63,
     "metadata": {},
     "output_type": "execute_result"
    }
   ],
   "source": [
    "df['Power'][power_index]"
   ]
  },
  {
   "cell_type": "code",
   "execution_count": 64,
   "id": "ccd8edfd",
   "metadata": {},
   "outputs": [],
   "source": [
    "tru_power = df['Power'][power_index].astype(float)"
   ]
  },
  {
   "cell_type": "code",
   "execution_count": 65,
   "id": "fa722b5b",
   "metadata": {},
   "outputs": [
    {
     "data": {
      "text/plain": [
       "(array([  70,  130,  143,  147,  314,  379,  405,  443,  489,  568,  571,\n",
       "         672,  773, 1009, 1063, 1093, 1315, 1696, 1884, 1928, 1938, 2040,\n",
       "        2046, 2050, 2450, 2479, 2586, 2818, 2829, 2900, 3051, 3160, 3183,\n",
       "        3256, 3402, 3432, 3957, 4078, 4234, 4250, 4278, 4341, 4449, 4515,\n",
       "        4578, 4605, 4660, 4698, 4703, 4750, 4773, 4817, 4963, 5165, 5212,\n",
       "        5287, 5329, 5389, 5401, 5469, 5638, 5644, 5779, 5865], dtype=int64),)"
      ]
     },
     "execution_count": 65,
     "metadata": {},
     "output_type": "execute_result"
    }
   ],
   "source": [
    "zs_power = zscore(tru_power)\n",
    "power_outliers_index = np.where(np.abs(zs_power)>3)\n",
    "power_outliers_index"
   ]
  },
  {
   "cell_type": "code",
   "execution_count": 66,
   "id": "7f70aaa9",
   "metadata": {},
   "outputs": [
    {
     "data": {
      "text/plain": [
       "<AxesSubplot: >"
      ]
     },
     "execution_count": 66,
     "metadata": {},
     "output_type": "execute_result"
    },
    {
     "data": {
      "image/png": "[encoded data removed]",
      "text/plain": [
       "<Figure size 400x200 with 1 Axes>"
      ]
     },
     "metadata": {},
     "output_type": "display_data"
    }
   ],
   "source": [
    "plt.figure(figsize = (4, 2))\n",
    "sns.boxplot(tru_power)"
   ]
  },
  {
   "cell_type": "code",
   "execution_count": 67,
   "id": "67ff486b",
   "metadata": {},
   "outputs": [],
   "source": [
    "p1 = np.quantile(tru_power , 0.25) \n",
    "p3 = np.quantile(tru_power , 0.75) \n",
    "piqr = 1.5* (p3 - p1)\n",
    "\n",
    "lp_tail = p1 - piqr\n",
    "up_tail = p3 + piqr"
   ]
  },
  {
   "cell_type": "code",
   "execution_count": 68,
   "id": "1985476d",
   "metadata": {},
   "outputs": [
    {
     "data": {
      "text/plain": [
       "94.64999999999999"
      ]
     },
     "execution_count": 68,
     "metadata": {},
     "output_type": "execute_result"
    }
   ],
   "source": [
    "piqr"
   ]
  },
  {
   "cell_type": "code",
   "execution_count": 69,
   "id": "68709e15",
   "metadata": {},
   "outputs": [
    {
     "name": "stdout",
     "output_type": "stream",
     "text": [
      "-19.64999999999999\n"
     ]
    }
   ],
   "source": [
    "print(lp_tail)"
   ]
  },
  {
   "cell_type": "code",
   "execution_count": 70,
   "id": "c73cfd92",
   "metadata": {},
   "outputs": [
    {
     "data": {
      "text/plain": [
       "232.75"
      ]
     },
     "execution_count": 70,
     "metadata": {},
     "output_type": "execute_result"
    }
   ],
   "source": [
    "up_tail "
   ]
  },
  {
   "cell_type": "code",
   "execution_count": 71,
   "id": "0aa0ad9d",
   "metadata": {},
   "outputs": [],
   "source": [
    "tru_power = np.where(tru_power>up_tail , up_tail , tru_power)"
   ]
  },
  {
   "cell_type": "code",
   "execution_count": 72,
   "id": "99ec4015",
   "metadata": {},
   "outputs": [
    {
     "data": {
      "text/plain": [
       "<AxesSubplot: >"
      ]
     },
     "execution_count": 72,
     "metadata": {},
     "output_type": "execute_result"
    },
    {
     "data": {
      "image/png": "[encoded data removed]",
      "text/plain": [
       "<Figure size 400x200 with 1 Axes>"
      ]
     },
     "metadata": {},
     "output_type": "display_data"
    }
   ],
   "source": [
    "plt.figure(figsize = (4, 2))\n",
    "sns.boxplot(tru_power)"
   ]
  },
  {
   "cell_type": "code",
   "execution_count": 73,
   "id": "716bcf7d",
   "metadata": {},
   "outputs": [
    {
     "name": "stderr",
     "output_type": "stream",
     "text": [
      "C:\\Users\\Admin\\AppData\\Local\\Temp\\ipykernel_8820\\2700361611.py:1: SettingWithCopyWarning: \n",
      "A value is trying to be set on a copy of a slice from a DataFrame\n",
      "\n",
      "See the caveats in the documentation: https://pandas.pydata.org/pandas-docs/stable/user_guide/indexing.html#returning-a-view-versus-a-copy\n",
      "  df['Power'][power_index] = tru_power\n"
     ]
    }
   ],
   "source": [
    "df['Power'][power_index] = tru_power"
   ]
  },
  {
   "cell_type": "code",
   "execution_count": 74,
   "id": "47aa5ec3",
   "metadata": {},
   "outputs": [
    {
     "data": {
      "text/plain": [
       "<AxesSubplot: >"
      ]
     },
     "execution_count": 74,
     "metadata": {},
     "output_type": "execute_result"
    },
    {
     "data": {
      "image/png": "[encoded data removed]",
      "text/plain": [
       "<Figure size 400x200 with 1 Axes>"
      ]
     },
     "metadata": {},
     "output_type": "display_data"
    }
   ],
   "source": [
    "plt.figure(figsize = (4, 2))\n",
    "sns.boxplot(df['Power'])"
   ]
  },
  {
   "cell_type": "code",
   "execution_count": 75,
   "id": "82a1ac1c",
   "metadata": {},
   "outputs": [],
   "source": [
    "kni_power = KNNImputer(n_neighbors = 3)\n",
    "arr_power = kni_power.fit_transform(df[['Power']])\n",
    "df ['Power'] = pd.DataFrame(arr_power , columns = ['Power'])"
   ]
  },
  {
   "cell_type": "code",
   "execution_count": 76,
   "id": "fe718c51",
   "metadata": {},
   "outputs": [
    {
     "data": {
      "text/plain": [
       "0"
      ]
     },
     "execution_count": 76,
     "metadata": {},
     "output_type": "execute_result"
    }
   ],
   "source": [
    "df['Power'].isna().sum()"
   ]
  },
  {
   "cell_type": "markdown",
   "id": "134cfb5e",
   "metadata": {},
   "source": [
    "#### Seats"
   ]
  },
  {
   "cell_type": "code",
   "execution_count": 77,
   "id": "b18a6c1e",
   "metadata": {},
   "outputs": [],
   "source": [
    "zs_seats = zscore(df['Seats'])"
   ]
  },
  {
   "cell_type": "code",
   "execution_count": 78,
   "id": "34e2f190",
   "metadata": {},
   "outputs": [
    {
     "data": {
      "text/plain": [
       "(array([], dtype=int64),)"
      ]
     },
     "execution_count": 78,
     "metadata": {},
     "output_type": "execute_result"
    }
   ],
   "source": [
    "seats_outliers_index = np.where(np.abs(zs_seats)>3)\n",
    "seats_outliers_index"
   ]
  },
  {
   "cell_type": "code",
   "execution_count": 79,
   "id": "069de6b4",
   "metadata": {},
   "outputs": [
    {
     "data": {
      "text/plain": [
       "<AxesSubplot: xlabel='Seats', ylabel='Density'>"
      ]
     },
     "execution_count": 79,
     "metadata": {},
     "output_type": "execute_result"
    },
    {
     "data": {
      "image/png": "[encoded data removed]",
      "text/plain": [
       "<Figure size 400x200 with 1 Axes>"
      ]
     },
     "metadata": {},
     "output_type": "display_data"
    }
   ],
   "source": [
    "plt.figure(figsize = (4, 2))\n",
    "sns.kdeplot(df['Seats'])"
   ]
  },
  {
   "cell_type": "code",
   "execution_count": 80,
   "id": "f3f4d06e",
   "metadata": {},
   "outputs": [],
   "source": [
    "kni_seats = KNNImputer(n_neighbors = 3)\n",
    "seats_arr = kni_seats.fit_transform(df[['Seats']])\n",
    "df['Seats'] = pd.DataFrame(seats_arr , columns = ['Seats'])"
   ]
  },
  {
   "cell_type": "code",
   "execution_count": 81,
   "id": "1dd3985b",
   "metadata": {},
   "outputs": [
    {
     "data": {
      "text/plain": [
       "0"
      ]
     },
     "execution_count": 81,
     "metadata": {},
     "output_type": "execute_result"
    }
   ],
   "source": [
    "df['Seats'].isna().sum()"
   ]
  },
  {
   "cell_type": "markdown",
   "id": "4faa1249",
   "metadata": {},
   "source": [
    "#### year"
   ]
  },
  {
   "cell_type": "code",
   "execution_count": 82,
   "id": "efb359f6",
   "metadata": {},
   "outputs": [],
   "source": [
    "df.rename({'Year': 'Age'}, axis  = 1, inplace = True)"
   ]
  },
  {
   "cell_type": "code",
   "execution_count": 83,
   "id": "5cd96eee",
   "metadata": {},
   "outputs": [],
   "source": [
    "f_year = lambda x : (2023-x)\n",
    "df['Age']= df['Age'].apply(f_year)"
   ]
  },
  {
   "cell_type": "code",
   "execution_count": 84,
   "id": "f4b61eaf",
   "metadata": {},
   "outputs": [
    {
     "data": {
      "text/html": [
       "<div>\n",
       "<style scoped>\n",
       "    .dataframe tbody tr th:only-of-type {\n",
       "        vertical-align: middle;\n",
       "    }\n",
       "\n",
       "    .dataframe tbody tr th {\n",
       "        vertical-align: top;\n",
       "    }\n",
       "\n",
       "    .dataframe thead th {\n",
       "        text-align: right;\n",
       "    }\n",
       "</style>\n",
       "<table border=\"1\" class=\"dataframe\">\n",
       "  <thead>\n",
       "    <tr style=\"text-align: right;\">\n",
       "      <th></th>\n",
       "      <th>Unnamed: 0</th>\n",
       "      <th>Age</th>\n",
       "      <th>Kilometers_Driven</th>\n",
       "      <th>Fuel_Type</th>\n",
       "      <th>Transmission</th>\n",
       "      <th>Owner_Type</th>\n",
       "      <th>Mileage</th>\n",
       "      <th>Engine</th>\n",
       "      <th>Power</th>\n",
       "      <th>Seats</th>\n",
       "      <th>...</th>\n",
       "      <th>Location_Bangalore</th>\n",
       "      <th>Location_Chennai</th>\n",
       "      <th>Location_Coimbatore</th>\n",
       "      <th>Location_Delhi</th>\n",
       "      <th>Location_Hyderabad</th>\n",
       "      <th>Location_Jaipur</th>\n",
       "      <th>Location_Kochi</th>\n",
       "      <th>Location_Kolkata</th>\n",
       "      <th>Location_Mumbai</th>\n",
       "      <th>Location_Pune</th>\n",
       "    </tr>\n",
       "  </thead>\n",
       "  <tbody>\n",
       "    <tr>\n",
       "      <th>0</th>\n",
       "      <td>0</td>\n",
       "      <td>13</td>\n",
       "      <td>72000</td>\n",
       "      <td>3</td>\n",
       "      <td>0</td>\n",
       "      <td>1</td>\n",
       "      <td>26.60</td>\n",
       "      <td>998.0</td>\n",
       "      <td>58.16</td>\n",
       "      <td>5.0</td>\n",
       "      <td>...</td>\n",
       "      <td>0</td>\n",
       "      <td>0</td>\n",
       "      <td>0</td>\n",
       "      <td>0</td>\n",
       "      <td>0</td>\n",
       "      <td>0</td>\n",
       "      <td>0</td>\n",
       "      <td>0</td>\n",
       "      <td>1</td>\n",
       "      <td>0</td>\n",
       "    </tr>\n",
       "    <tr>\n",
       "      <th>1</th>\n",
       "      <td>1</td>\n",
       "      <td>8</td>\n",
       "      <td>41000</td>\n",
       "      <td>1</td>\n",
       "      <td>0</td>\n",
       "      <td>1</td>\n",
       "      <td>19.67</td>\n",
       "      <td>1582.0</td>\n",
       "      <td>126.20</td>\n",
       "      <td>5.0</td>\n",
       "      <td>...</td>\n",
       "      <td>0</td>\n",
       "      <td>0</td>\n",
       "      <td>0</td>\n",
       "      <td>0</td>\n",
       "      <td>0</td>\n",
       "      <td>0</td>\n",
       "      <td>0</td>\n",
       "      <td>0</td>\n",
       "      <td>0</td>\n",
       "      <td>1</td>\n",
       "    </tr>\n",
       "    <tr>\n",
       "      <th>2</th>\n",
       "      <td>2</td>\n",
       "      <td>12</td>\n",
       "      <td>46000</td>\n",
       "      <td>0</td>\n",
       "      <td>0</td>\n",
       "      <td>1</td>\n",
       "      <td>18.20</td>\n",
       "      <td>1199.0</td>\n",
       "      <td>88.70</td>\n",
       "      <td>5.0</td>\n",
       "      <td>...</td>\n",
       "      <td>0</td>\n",
       "      <td>1</td>\n",
       "      <td>0</td>\n",
       "      <td>0</td>\n",
       "      <td>0</td>\n",
       "      <td>0</td>\n",
       "      <td>0</td>\n",
       "      <td>0</td>\n",
       "      <td>0</td>\n",
       "      <td>0</td>\n",
       "    </tr>\n",
       "    <tr>\n",
       "      <th>3</th>\n",
       "      <td>3</td>\n",
       "      <td>11</td>\n",
       "      <td>87000</td>\n",
       "      <td>1</td>\n",
       "      <td>0</td>\n",
       "      <td>1</td>\n",
       "      <td>20.77</td>\n",
       "      <td>1248.0</td>\n",
       "      <td>88.76</td>\n",
       "      <td>7.0</td>\n",
       "      <td>...</td>\n",
       "      <td>0</td>\n",
       "      <td>1</td>\n",
       "      <td>0</td>\n",
       "      <td>0</td>\n",
       "      <td>0</td>\n",
       "      <td>0</td>\n",
       "      <td>0</td>\n",
       "      <td>0</td>\n",
       "      <td>0</td>\n",
       "      <td>0</td>\n",
       "    </tr>\n",
       "    <tr>\n",
       "      <th>4</th>\n",
       "      <td>4</td>\n",
       "      <td>10</td>\n",
       "      <td>40670</td>\n",
       "      <td>1</td>\n",
       "      <td>1</td>\n",
       "      <td>2</td>\n",
       "      <td>15.20</td>\n",
       "      <td>1968.0</td>\n",
       "      <td>140.80</td>\n",
       "      <td>5.0</td>\n",
       "      <td>...</td>\n",
       "      <td>0</td>\n",
       "      <td>0</td>\n",
       "      <td>1</td>\n",
       "      <td>0</td>\n",
       "      <td>0</td>\n",
       "      <td>0</td>\n",
       "      <td>0</td>\n",
       "      <td>0</td>\n",
       "      <td>0</td>\n",
       "      <td>0</td>\n",
       "    </tr>\n",
       "    <tr>\n",
       "      <th>...</th>\n",
       "      <td>...</td>\n",
       "      <td>...</td>\n",
       "      <td>...</td>\n",
       "      <td>...</td>\n",
       "      <td>...</td>\n",
       "      <td>...</td>\n",
       "      <td>...</td>\n",
       "      <td>...</td>\n",
       "      <td>...</td>\n",
       "      <td>...</td>\n",
       "      <td>...</td>\n",
       "      <td>...</td>\n",
       "      <td>...</td>\n",
       "      <td>...</td>\n",
       "      <td>...</td>\n",
       "      <td>...</td>\n",
       "      <td>...</td>\n",
       "      <td>...</td>\n",
       "      <td>...</td>\n",
       "      <td>...</td>\n",
       "      <td>...</td>\n",
       "    </tr>\n",
       "    <tr>\n",
       "      <th>6014</th>\n",
       "      <td>6014</td>\n",
       "      <td>9</td>\n",
       "      <td>27365</td>\n",
       "      <td>1</td>\n",
       "      <td>0</td>\n",
       "      <td>1</td>\n",
       "      <td>28.40</td>\n",
       "      <td>1248.0</td>\n",
       "      <td>74.00</td>\n",
       "      <td>5.0</td>\n",
       "      <td>...</td>\n",
       "      <td>0</td>\n",
       "      <td>0</td>\n",
       "      <td>0</td>\n",
       "      <td>1</td>\n",
       "      <td>0</td>\n",
       "      <td>0</td>\n",
       "      <td>0</td>\n",
       "      <td>0</td>\n",
       "      <td>0</td>\n",
       "      <td>0</td>\n",
       "    </tr>\n",
       "    <tr>\n",
       "      <th>6015</th>\n",
       "      <td>6015</td>\n",
       "      <td>8</td>\n",
       "      <td>100000</td>\n",
       "      <td>1</td>\n",
       "      <td>0</td>\n",
       "      <td>1</td>\n",
       "      <td>24.40</td>\n",
       "      <td>1120.0</td>\n",
       "      <td>71.00</td>\n",
       "      <td>5.0</td>\n",
       "      <td>...</td>\n",
       "      <td>0</td>\n",
       "      <td>0</td>\n",
       "      <td>0</td>\n",
       "      <td>0</td>\n",
       "      <td>0</td>\n",
       "      <td>1</td>\n",
       "      <td>0</td>\n",
       "      <td>0</td>\n",
       "      <td>0</td>\n",
       "      <td>0</td>\n",
       "    </tr>\n",
       "    <tr>\n",
       "      <th>6016</th>\n",
       "      <td>6016</td>\n",
       "      <td>11</td>\n",
       "      <td>55000</td>\n",
       "      <td>1</td>\n",
       "      <td>0</td>\n",
       "      <td>2</td>\n",
       "      <td>14.00</td>\n",
       "      <td>2498.0</td>\n",
       "      <td>112.00</td>\n",
       "      <td>8.0</td>\n",
       "      <td>...</td>\n",
       "      <td>0</td>\n",
       "      <td>0</td>\n",
       "      <td>0</td>\n",
       "      <td>0</td>\n",
       "      <td>0</td>\n",
       "      <td>1</td>\n",
       "      <td>0</td>\n",
       "      <td>0</td>\n",
       "      <td>0</td>\n",
       "      <td>0</td>\n",
       "    </tr>\n",
       "    <tr>\n",
       "      <th>6017</th>\n",
       "      <td>6017</td>\n",
       "      <td>10</td>\n",
       "      <td>46000</td>\n",
       "      <td>0</td>\n",
       "      <td>0</td>\n",
       "      <td>1</td>\n",
       "      <td>18.90</td>\n",
       "      <td>998.0</td>\n",
       "      <td>67.10</td>\n",
       "      <td>5.0</td>\n",
       "      <td>...</td>\n",
       "      <td>0</td>\n",
       "      <td>0</td>\n",
       "      <td>0</td>\n",
       "      <td>0</td>\n",
       "      <td>0</td>\n",
       "      <td>0</td>\n",
       "      <td>0</td>\n",
       "      <td>1</td>\n",
       "      <td>0</td>\n",
       "      <td>0</td>\n",
       "    </tr>\n",
       "    <tr>\n",
       "      <th>6018</th>\n",
       "      <td>6018</td>\n",
       "      <td>12</td>\n",
       "      <td>47000</td>\n",
       "      <td>1</td>\n",
       "      <td>0</td>\n",
       "      <td>1</td>\n",
       "      <td>25.44</td>\n",
       "      <td>936.0</td>\n",
       "      <td>57.60</td>\n",
       "      <td>5.0</td>\n",
       "      <td>...</td>\n",
       "      <td>0</td>\n",
       "      <td>0</td>\n",
       "      <td>0</td>\n",
       "      <td>0</td>\n",
       "      <td>1</td>\n",
       "      <td>0</td>\n",
       "      <td>0</td>\n",
       "      <td>0</td>\n",
       "      <td>0</td>\n",
       "      <td>0</td>\n",
       "    </tr>\n",
       "  </tbody>\n",
       "</table>\n",
       "<p>6019 rows × 54 columns</p>\n",
       "</div>"
      ],
      "text/plain": [
       "      Unnamed: 0  Age  Kilometers_Driven  Fuel_Type  Transmission  Owner_Type  \\\n",
       "0              0   13              72000          3             0           1   \n",
       "1              1    8              41000          1             0           1   \n",
       "2              2   12              46000          0             0           1   \n",
       "3              3   11              87000          1             0           1   \n",
       "4              4   10              40670          1             1           2   \n",
       "...          ...  ...                ...        ...           ...         ...   \n",
       "6014        6014    9              27365          1             0           1   \n",
       "6015        6015    8             100000          1             0           1   \n",
       "6016        6016   11              55000          1             0           2   \n",
       "6017        6017   10              46000          0             0           1   \n",
       "6018        6018   12              47000          1             0           1   \n",
       "\n",
       "      Mileage  Engine   Power  Seats  ... Location_Bangalore  \\\n",
       "0       26.60   998.0   58.16    5.0  ...                  0   \n",
       "1       19.67  1582.0  126.20    5.0  ...                  0   \n",
       "2       18.20  1199.0   88.70    5.0  ...                  0   \n",
       "3       20.77  1248.0   88.76    7.0  ...                  0   \n",
       "4       15.20  1968.0  140.80    5.0  ...                  0   \n",
       "...       ...     ...     ...    ...  ...                ...   \n",
       "6014    28.40  1248.0   74.00    5.0  ...                  0   \n",
       "6015    24.40  1120.0   71.00    5.0  ...                  0   \n",
       "6016    14.00  2498.0  112.00    8.0  ...                  0   \n",
       "6017    18.90   998.0   67.10    5.0  ...                  0   \n",
       "6018    25.44   936.0   57.60    5.0  ...                  0   \n",
       "\n",
       "      Location_Chennai  Location_Coimbatore  Location_Delhi  \\\n",
       "0                    0                    0               0   \n",
       "1                    0                    0               0   \n",
       "2                    1                    0               0   \n",
       "3                    1                    0               0   \n",
       "4                    0                    1               0   \n",
       "...                ...                  ...             ...   \n",
       "6014                 0                    0               1   \n",
       "6015                 0                    0               0   \n",
       "6016                 0                    0               0   \n",
       "6017                 0                    0               0   \n",
       "6018                 0                    0               0   \n",
       "\n",
       "      Location_Hyderabad  Location_Jaipur  Location_Kochi  Location_Kolkata  \\\n",
       "0                      0                0               0                 0   \n",
       "1                      0                0               0                 0   \n",
       "2                      0                0               0                 0   \n",
       "3                      0                0               0                 0   \n",
       "4                      0                0               0                 0   \n",
       "...                  ...              ...             ...               ...   \n",
       "6014                   0                0               0                 0   \n",
       "6015                   0                1               0                 0   \n",
       "6016                   0                1               0                 0   \n",
       "6017                   0                0               0                 1   \n",
       "6018                   1                0               0                 0   \n",
       "\n",
       "      Location_Mumbai  Location_Pune  \n",
       "0                   1              0  \n",
       "1                   0              1  \n",
       "2                   0              0  \n",
       "3                   0              0  \n",
       "4                   0              0  \n",
       "...               ...            ...  \n",
       "6014                0              0  \n",
       "6015                0              0  \n",
       "6016                0              0  \n",
       "6017                0              0  \n",
       "6018                0              0  \n",
       "\n",
       "[6019 rows x 54 columns]"
      ]
     },
     "execution_count": 84,
     "metadata": {},
     "output_type": "execute_result"
    }
   ],
   "source": [
    "df"
   ]
  },
  {
   "cell_type": "markdown",
   "id": "cf0c0152",
   "metadata": {},
   "source": [
    "### Model Training "
   ]
  },
  {
   "cell_type": "code",
   "execution_count": 85,
   "id": "b5a47e0c",
   "metadata": {},
   "outputs": [],
   "source": [
    "x = df.drop(['Unnamed: 0','Price' ,'New_Price'] , axis = 1)\n",
    "y = df['Price']"
   ]
  },
  {
   "cell_type": "code",
   "execution_count": 86,
   "id": "0103099b",
   "metadata": {},
   "outputs": [],
   "source": [
    "xtr , xts , ytr , yts = train_test_split(x,y, test_size = 0.2 , random_state = 33)"
   ]
  },
  {
   "cell_type": "code",
   "execution_count": 87,
   "id": "ec940490",
   "metadata": {},
   "outputs": [
    {
     "data": {
      "text/html": [
       "<style>#sk-container-id-1 {color: black;background-color: white;}#sk-container-id-1 pre{padding: 0;}#sk-container-id-1 div.sk-toggleable {background-color: white;}#sk-container-id-1 label.sk-toggleable__label {cursor: pointer;display: block;width: 100%;margin-bottom: 0;padding: 0.3em;box-sizing: border-box;text-align: center;}#sk-container-id-1 label.sk-toggleable__label-arrow:before {content: \"▸\";float: left;margin-right: 0.25em;color: #696969;}#sk-container-id-1 label.sk-toggleable__label-arrow:hover:before {color: black;}#sk-container-id-1 div.sk-estimator:hover label.sk-toggleable__label-arrow:before {color: black;}#sk-container-id-1 div.sk-toggleable__content {max-height: 0;max-width: 0;overflow: hidden;text-align: left;background-color: #f0f8ff;}#sk-container-id-1 div.sk-toggleable__content pre {margin: 0.2em;color: black;border-radius: 0.25em;background-color: #f0f8ff;}#sk-container-id-1 input.sk-toggleable__control:checked~div.sk-toggleable__content {max-height: 200px;max-width: 100%;overflow: auto;}#sk-container-id-1 input.sk-toggleable__control:checked~label.sk-toggleable__label-arrow:before {content: \"▾\";}#sk-container-id-1 div.sk-estimator input.sk-toggleable__control:checked~label.sk-toggleable__label {background-color: #d4ebff;}#sk-container-id-1 div.sk-label input.sk-toggleable__control:checked~label.sk-toggleable__label {background-color: #d4ebff;}#sk-container-id-1 input.sk-hidden--visually {border: 0;clip: rect(1px 1px 1px 1px);clip: rect(1px, 1px, 1px, 1px);height: 1px;margin: -1px;overflow: hidden;padding: 0;position: absolute;width: 1px;}#sk-container-id-1 div.sk-estimator {font-family: monospace;background-color: #f0f8ff;border: 1px dotted black;border-radius: 0.25em;box-sizing: border-box;margin-bottom: 0.5em;}#sk-container-id-1 div.sk-estimator:hover {background-color: #d4ebff;}#sk-container-id-1 div.sk-parallel-item::after {content: \"\";width: 100%;border-bottom: 1px solid gray;flex-grow: 1;}#sk-container-id-1 div.sk-label:hover label.sk-toggleable__label {background-color: #d4ebff;}#sk-container-id-1 div.sk-serial::before {content: \"\";position: absolute;border-left: 1px solid gray;box-sizing: border-box;top: 0;bottom: 0;left: 50%;z-index: 0;}#sk-container-id-1 div.sk-serial {display: flex;flex-direction: column;align-items: center;background-color: white;padding-right: 0.2em;padding-left: 0.2em;position: relative;}#sk-container-id-1 div.sk-item {position: relative;z-index: 1;}#sk-container-id-1 div.sk-parallel {display: flex;align-items: stretch;justify-content: center;background-color: white;position: relative;}#sk-container-id-1 div.sk-item::before, #sk-container-id-1 div.sk-parallel-item::before {content: \"\";position: absolute;border-left: 1px solid gray;box-sizing: border-box;top: 0;bottom: 0;left: 50%;z-index: -1;}#sk-container-id-1 div.sk-parallel-item {display: flex;flex-direction: column;z-index: 1;position: relative;background-color: white;}#sk-container-id-1 div.sk-parallel-item:first-child::after {align-self: flex-end;width: 50%;}#sk-container-id-1 div.sk-parallel-item:last-child::after {align-self: flex-start;width: 50%;}#sk-container-id-1 div.sk-parallel-item:only-child::after {width: 0;}#sk-container-id-1 div.sk-dashed-wrapped {border: 1px dashed gray;margin: 0 0.4em 0.5em 0.4em;box-sizing: border-box;padding-bottom: 0.4em;background-color: white;}#sk-container-id-1 div.sk-label label {font-family: monospace;font-weight: bold;display: inline-block;line-height: 1.2em;}#sk-container-id-1 div.sk-label-container {text-align: center;}#sk-container-id-1 div.sk-container {/* jupyter's `normalize.less` sets `[hidden] { display: none; }` but bootstrap.min.css set `[hidden] { display: none !important; }` so we also need the `!important` here to be able to override the default hidden behavior on the sphinx rendered scikit-learn.org. See: https://github.com/scikit-learn/scikit-learn/issues/21755 */display: inline-block !important;position: relative;}#sk-container-id-1 div.sk-text-repr-fallback {display: none;}</style><div id=\"sk-container-id-1\" class=\"sk-top-container\"><div class=\"sk-text-repr-fallback\"><pre>LinearRegression()</pre><b>In a Jupyter environment, please rerun this cell to show the HTML representation or trust the notebook. <br />On GitHub, the HTML representation is unable to render, please try loading this page with nbviewer.org.</b></div><div class=\"sk-container\" hidden><div class=\"sk-item\"><div class=\"sk-estimator sk-toggleable\"><input class=\"sk-toggleable__control sk-hidden--visually\" id=\"sk-estimator-id-1\" type=\"checkbox\" checked><label for=\"sk-estimator-id-1\" class=\"sk-toggleable__label sk-toggleable__label-arrow\">LinearRegression</label><div class=\"sk-toggleable__content\"><pre>LinearRegression()</pre></div></div></div></div></div>"
      ],
      "text/plain": [
       "LinearRegression()"
      ]
     },
     "execution_count": 87,
     "metadata": {},
     "output_type": "execute_result"
    }
   ],
   "source": [
    "linreg = LinearRegression()\n",
    "linreg.fit(xtr,ytr)"
   ]
  },
  {
   "cell_type": "markdown",
   "id": "91dc4eab",
   "metadata": {},
   "source": [
    "### Training Evaluation "
   ]
  },
  {
   "cell_type": "code",
   "execution_count": 88,
   "id": "3101bedc",
   "metadata": {},
   "outputs": [
    {
     "data": {
      "text/plain": [
       "0.7670349167720211"
      ]
     },
     "execution_count": 88,
     "metadata": {},
     "output_type": "execute_result"
    }
   ],
   "source": [
    "yptr = linreg.predict(xtr)\n",
    "r2_score(ytr,yptr)"
   ]
  },
  {
   "cell_type": "markdown",
   "id": "8d09ed1f",
   "metadata": {},
   "source": [
    "### Testing Evaluation "
   ]
  },
  {
   "cell_type": "code",
   "execution_count": 89,
   "id": "66b8cdb5",
   "metadata": {},
   "outputs": [
    {
     "data": {
      "text/plain": [
       "0.7524496134703648"
      ]
     },
     "execution_count": 89,
     "metadata": {},
     "output_type": "execute_result"
    }
   ],
   "source": [
    "ypts = linreg.predict(xts)\n",
    "r2_score(yts,ypts)"
   ]
  },
  {
   "cell_type": "code",
   "execution_count": 90,
   "id": "ff9d9a89",
   "metadata": {},
   "outputs": [],
   "source": [
    "col_list = x.columns.to_list()"
   ]
  },
  {
   "cell_type": "code",
   "execution_count": 91,
   "id": "4afb3643",
   "metadata": {},
   "outputs": [
    {
     "data": {
      "text/plain": [
       "['Age',\n",
       " 'Kilometers_Driven',\n",
       " 'Fuel_Type',\n",
       " 'Transmission',\n",
       " 'Owner_Type',\n",
       " 'Mileage',\n",
       " 'Engine',\n",
       " 'Power',\n",
       " 'Seats',\n",
       " 'Name_Ambassador',\n",
       " 'Name_Audi',\n",
       " 'Name_BMW',\n",
       " 'Name_Bentley',\n",
       " 'Name_Chevrolet',\n",
       " 'Name_Datsun',\n",
       " 'Name_Fiat',\n",
       " 'Name_Force',\n",
       " 'Name_Ford',\n",
       " 'Name_Honda',\n",
       " 'Name_Hyundai',\n",
       " 'Name_ISUZU',\n",
       " 'Name_Isuzu',\n",
       " 'Name_Jaguar',\n",
       " 'Name_Jeep',\n",
       " 'Name_Lamborghini',\n",
       " 'Name_Land',\n",
       " 'Name_Mahindra',\n",
       " 'Name_Maruti',\n",
       " 'Name_Mercedes',\n",
       " 'Name_Mini',\n",
       " 'Name_Mitsubishi',\n",
       " 'Name_Nissan',\n",
       " 'Name_Porsche',\n",
       " 'Name_Renault',\n",
       " 'Name_Skoda',\n",
       " 'Name_Smart',\n",
       " 'Name_Tata',\n",
       " 'Name_Toyota',\n",
       " 'Name_Volkswagen',\n",
       " 'Name_Volvo',\n",
       " 'Location_Ahmedabad',\n",
       " 'Location_Bangalore',\n",
       " 'Location_Chennai',\n",
       " 'Location_Coimbatore',\n",
       " 'Location_Delhi',\n",
       " 'Location_Hyderabad',\n",
       " 'Location_Jaipur',\n",
       " 'Location_Kochi',\n",
       " 'Location_Kolkata',\n",
       " 'Location_Mumbai',\n",
       " 'Location_Pune']"
      ]
     },
     "execution_count": 91,
     "metadata": {},
     "output_type": "execute_result"
    }
   ],
   "source": [
    "col_list"
   ]
  },
  {
   "cell_type": "code",
   "execution_count": 96,
   "id": "0c67ace0",
   "metadata": {},
   "outputs": [],
   "source": [
    "col_dict = {'Column_Names' : col_list , \n",
    "            'Fuel_Type' : {'Petrol' : 0  , 'Diesel' :1 ,'CNG'  : 3 ,\n",
    "                           'LPG': 2 ,'Electric' : 4 } ,\n",
    "            'Transmission': {'Manual':0, 'Automatic':1} , \n",
    "            'Owner_Type':{'First' :1, 'Second' :2, 'Third' :3 , 'Fourth & Above' : 4}}"
   ]
  },
  {
   "cell_type": "code",
   "execution_count": 102,
   "id": "52c2b7bc",
   "metadata": {},
   "outputs": [],
   "source": [
    "c_index = col_dict[\"Column_Names\"].index('Name_Ambassador')\n",
    "\n",
    "'Column_Names'[c_index] = 1"
   ]
  },
  {
   "cell_type": "code",
   "execution_count": 93,
   "id": "b2195877",
   "metadata": {},
   "outputs": [],
   "source": [
    "with open('column_data.json' , 'w') as f:\n",
    "    json.dump(col_dict,f)"
   ]
  },
  {
   "cell_type": "code",
   "execution_count": 94,
   "id": "2733764b",
   "metadata": {},
   "outputs": [],
   "source": [
    "with open('linreg.pkl' , 'wb') as f:\n",
    "    pickle.dump(linreg,f)"
   ]
  }
 ],
 "metadata": {
  "kernelspec": {
   "display_name": "Python 3 (ipykernel)",
   "language": "python",
   "name": "python3"
  },
  "language_info": {
   "codemirror_mode": {
    "name": "ipython",
    "version": 3
   },
   "file_extension": ".py",
   "mimetype": "text/x-python",
   "name": "python",
   "nbconvert_exporter": "python",
   "pygments_lexer": "ipython3",
   "version": "3.10.7"
  },
  "vscode": {
   "interpreter": {
    "hash": "a42ccb73e7d9bfdf27e036f1d2b8b681e55fc0743cc5586bc2474d4a60f4b886"
   }
  }
 },
 "nbformat": 4,
 "nbformat_minor": 5
}
