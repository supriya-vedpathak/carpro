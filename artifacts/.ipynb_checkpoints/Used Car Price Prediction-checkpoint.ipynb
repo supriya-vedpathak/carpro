{
 "cells": [
  {
   "cell_type": "code",
   "execution_count": 1,
   "id": "09efb15e",
   "metadata": {},
   "outputs": [],
   "source": [
    "import pandas as pd\n",
    "import numpy as np"
   ]
  },
  {
   "cell_type": "code",
   "execution_count": 2,
   "id": "119abe7c",
   "metadata": {},
   "outputs": [],
   "source": [
    "from sklearn.linear_model import LinearRegression\n",
    "\n",
    "from sklearn.model_selection import train_test_split\n",
    "\n",
    "from sklearn.metrics import mean_squared_error  , r2_score , mean_absolute_error\n",
    "\n",
    "import seaborn as sns\n",
    "import matplotlib.pyplot as plt"
   ]
  },
  {
   "cell_type": "code",
   "execution_count": 3,
   "id": "155d7d82",
   "metadata": {},
   "outputs": [],
   "source": [
    "from scipy.stats import zscore"
   ]
  },
  {
   "cell_type": "code",
   "execution_count": 4,
   "id": "02b4fa83",
   "metadata": {},
   "outputs": [],
   "source": [
    "from sklearn.impute import KNNImputer"
   ]
  },
  {
   "cell_type": "code",
   "execution_count": 5,
   "id": "c6d9c5f2",
   "metadata": {},
   "outputs": [],
   "source": [
    "import pickle\n",
    "import json\n",
    "import re"
   ]
  },
  {
   "cell_type": "markdown",
   "id": "01d49b23",
   "metadata": {},
   "source": [
    "### 1.Problem Statement"
   ]
  },
  {
   "cell_type": "raw",
   "id": "12e9a4f5",
   "metadata": {},
   "source": [
    "to predict the price of used car on the basis of provided features"
   ]
  },
  {
   "cell_type": "markdown",
   "id": "20f76641",
   "metadata": {},
   "source": [
    "### 2.Data Gathering"
   ]
  },
  {
   "cell_type": "code",
   "execution_count": 6,
   "id": "66305a34",
   "metadata": {},
   "outputs": [
    {
     "ename": "FileNotFoundError",
     "evalue": "[Errno 2] No such file or directory: 'E:\\\\projects\\\\Used Car price Prediction\\\\train-data.csv'",
     "output_type": "error",
     "traceback": [
      "\u001b[1;31m---------------------------------------------------------------------------\u001b[0m",
      "\u001b[1;31mFileNotFoundError\u001b[0m                         Traceback (most recent call last)",
      "Cell \u001b[1;32mIn [6], line 1\u001b[0m\n\u001b[1;32m----> 1\u001b[0m df \u001b[38;5;241m=\u001b[39m \u001b[43mpd\u001b[49m\u001b[38;5;241;43m.\u001b[39;49m\u001b[43mread_csv\u001b[49m\u001b[43m(\u001b[49m\u001b[38;5;124;43mr\u001b[39;49m\u001b[38;5;124;43m\"\u001b[39;49m\u001b[38;5;124;43mE:\u001b[39;49m\u001b[38;5;124;43m\\\u001b[39;49m\u001b[38;5;124;43mprojects\u001b[39;49m\u001b[38;5;124;43m\\\u001b[39;49m\u001b[38;5;124;43mUsed Car price Prediction\u001b[39;49m\u001b[38;5;124;43m\\\u001b[39;49m\u001b[38;5;124;43mtrain-data.csv\u001b[39;49m\u001b[38;5;124;43m\"\u001b[39;49m\u001b[43m)\u001b[49m\n",
      "File \u001b[1;32m~\\AppData\\Local\\Programs\\Python\\Python310\\lib\\site-packages\\pandas\\util\\_decorators.py:211\u001b[0m, in \u001b[0;36mdeprecate_kwarg.<locals>._deprecate_kwarg.<locals>.wrapper\u001b[1;34m(*args, **kwargs)\u001b[0m\n\u001b[0;32m    209\u001b[0m     \u001b[38;5;28;01melse\u001b[39;00m:\n\u001b[0;32m    210\u001b[0m         kwargs[new_arg_name] \u001b[38;5;241m=\u001b[39m new_arg_value\n\u001b[1;32m--> 211\u001b[0m \u001b[38;5;28;01mreturn\u001b[39;00m func(\u001b[38;5;241m*\u001b[39margs, \u001b[38;5;241m*\u001b[39m\u001b[38;5;241m*\u001b[39mkwargs)\n",
      "File \u001b[1;32m~\\AppData\\Local\\Programs\\Python\\Python310\\lib\\site-packages\\pandas\\util\\_decorators.py:331\u001b[0m, in \u001b[0;36mdeprecate_nonkeyword_arguments.<locals>.decorate.<locals>.wrapper\u001b[1;34m(*args, **kwargs)\u001b[0m\n\u001b[0;32m    325\u001b[0m \u001b[38;5;28;01mif\u001b[39;00m \u001b[38;5;28mlen\u001b[39m(args) \u001b[38;5;241m>\u001b[39m num_allow_args:\n\u001b[0;32m    326\u001b[0m     warnings\u001b[38;5;241m.\u001b[39mwarn(\n\u001b[0;32m    327\u001b[0m         msg\u001b[38;5;241m.\u001b[39mformat(arguments\u001b[38;5;241m=\u001b[39m_format_argument_list(allow_args)),\n\u001b[0;32m    328\u001b[0m         \u001b[38;5;167;01mFutureWarning\u001b[39;00m,\n\u001b[0;32m    329\u001b[0m         stacklevel\u001b[38;5;241m=\u001b[39mfind_stack_level(),\n\u001b[0;32m    330\u001b[0m     )\n\u001b[1;32m--> 331\u001b[0m \u001b[38;5;28;01mreturn\u001b[39;00m func(\u001b[38;5;241m*\u001b[39margs, \u001b[38;5;241m*\u001b[39m\u001b[38;5;241m*\u001b[39mkwargs)\n",
      "File \u001b[1;32m~\\AppData\\Local\\Programs\\Python\\Python310\\lib\\site-packages\\pandas\\io\\parsers\\readers.py:950\u001b[0m, in \u001b[0;36mread_csv\u001b[1;34m(filepath_or_buffer, sep, delimiter, header, names, index_col, usecols, squeeze, prefix, mangle_dupe_cols, dtype, engine, converters, true_values, false_values, skipinitialspace, skiprows, skipfooter, nrows, na_values, keep_default_na, na_filter, verbose, skip_blank_lines, parse_dates, infer_datetime_format, keep_date_col, date_parser, dayfirst, cache_dates, iterator, chunksize, compression, thousands, decimal, lineterminator, quotechar, quoting, doublequote, escapechar, comment, encoding, encoding_errors, dialect, error_bad_lines, warn_bad_lines, on_bad_lines, delim_whitespace, low_memory, memory_map, float_precision, storage_options)\u001b[0m\n\u001b[0;32m    935\u001b[0m kwds_defaults \u001b[38;5;241m=\u001b[39m _refine_defaults_read(\n\u001b[0;32m    936\u001b[0m     dialect,\n\u001b[0;32m    937\u001b[0m     delimiter,\n\u001b[1;32m   (...)\u001b[0m\n\u001b[0;32m    946\u001b[0m     defaults\u001b[38;5;241m=\u001b[39m{\u001b[38;5;124m\"\u001b[39m\u001b[38;5;124mdelimiter\u001b[39m\u001b[38;5;124m\"\u001b[39m: \u001b[38;5;124m\"\u001b[39m\u001b[38;5;124m,\u001b[39m\u001b[38;5;124m\"\u001b[39m},\n\u001b[0;32m    947\u001b[0m )\n\u001b[0;32m    948\u001b[0m kwds\u001b[38;5;241m.\u001b[39mupdate(kwds_defaults)\n\u001b[1;32m--> 950\u001b[0m \u001b[38;5;28;01mreturn\u001b[39;00m \u001b[43m_read\u001b[49m\u001b[43m(\u001b[49m\u001b[43mfilepath_or_buffer\u001b[49m\u001b[43m,\u001b[49m\u001b[43m \u001b[49m\u001b[43mkwds\u001b[49m\u001b[43m)\u001b[49m\n",
      "File \u001b[1;32m~\\AppData\\Local\\Programs\\Python\\Python310\\lib\\site-packages\\pandas\\io\\parsers\\readers.py:605\u001b[0m, in \u001b[0;36m_read\u001b[1;34m(filepath_or_buffer, kwds)\u001b[0m\n\u001b[0;32m    602\u001b[0m _validate_names(kwds\u001b[38;5;241m.\u001b[39mget(\u001b[38;5;124m\"\u001b[39m\u001b[38;5;124mnames\u001b[39m\u001b[38;5;124m\"\u001b[39m, \u001b[38;5;28;01mNone\u001b[39;00m))\n\u001b[0;32m    604\u001b[0m \u001b[38;5;66;03m# Create the parser.\u001b[39;00m\n\u001b[1;32m--> 605\u001b[0m parser \u001b[38;5;241m=\u001b[39m TextFileReader(filepath_or_buffer, \u001b[38;5;241m*\u001b[39m\u001b[38;5;241m*\u001b[39mkwds)\n\u001b[0;32m    607\u001b[0m \u001b[38;5;28;01mif\u001b[39;00m chunksize \u001b[38;5;129;01mor\u001b[39;00m iterator:\n\u001b[0;32m    608\u001b[0m     \u001b[38;5;28;01mreturn\u001b[39;00m parser\n",
      "File \u001b[1;32m~\\AppData\\Local\\Programs\\Python\\Python310\\lib\\site-packages\\pandas\\io\\parsers\\readers.py:1442\u001b[0m, in \u001b[0;36mTextFileReader.__init__\u001b[1;34m(self, f, engine, **kwds)\u001b[0m\n\u001b[0;32m   1439\u001b[0m     \u001b[38;5;28mself\u001b[39m\u001b[38;5;241m.\u001b[39moptions[\u001b[38;5;124m\"\u001b[39m\u001b[38;5;124mhas_index_names\u001b[39m\u001b[38;5;124m\"\u001b[39m] \u001b[38;5;241m=\u001b[39m kwds[\u001b[38;5;124m\"\u001b[39m\u001b[38;5;124mhas_index_names\u001b[39m\u001b[38;5;124m\"\u001b[39m]\n\u001b[0;32m   1441\u001b[0m \u001b[38;5;28mself\u001b[39m\u001b[38;5;241m.\u001b[39mhandles: IOHandles \u001b[38;5;241m|\u001b[39m \u001b[38;5;28;01mNone\u001b[39;00m \u001b[38;5;241m=\u001b[39m \u001b[38;5;28;01mNone\u001b[39;00m\n\u001b[1;32m-> 1442\u001b[0m \u001b[38;5;28mself\u001b[39m\u001b[38;5;241m.\u001b[39m_engine \u001b[38;5;241m=\u001b[39m \u001b[38;5;28;43mself\u001b[39;49m\u001b[38;5;241;43m.\u001b[39;49m\u001b[43m_make_engine\u001b[49m\u001b[43m(\u001b[49m\u001b[43mf\u001b[49m\u001b[43m,\u001b[49m\u001b[43m \u001b[49m\u001b[38;5;28;43mself\u001b[39;49m\u001b[38;5;241;43m.\u001b[39;49m\u001b[43mengine\u001b[49m\u001b[43m)\u001b[49m\n",
      "File \u001b[1;32m~\\AppData\\Local\\Programs\\Python\\Python310\\lib\\site-packages\\pandas\\io\\parsers\\readers.py:1735\u001b[0m, in \u001b[0;36mTextFileReader._make_engine\u001b[1;34m(self, f, engine)\u001b[0m\n\u001b[0;32m   1733\u001b[0m     \u001b[38;5;28;01mif\u001b[39;00m \u001b[38;5;124m\"\u001b[39m\u001b[38;5;124mb\u001b[39m\u001b[38;5;124m\"\u001b[39m \u001b[38;5;129;01mnot\u001b[39;00m \u001b[38;5;129;01min\u001b[39;00m mode:\n\u001b[0;32m   1734\u001b[0m         mode \u001b[38;5;241m+\u001b[39m\u001b[38;5;241m=\u001b[39m \u001b[38;5;124m\"\u001b[39m\u001b[38;5;124mb\u001b[39m\u001b[38;5;124m\"\u001b[39m\n\u001b[1;32m-> 1735\u001b[0m \u001b[38;5;28mself\u001b[39m\u001b[38;5;241m.\u001b[39mhandles \u001b[38;5;241m=\u001b[39m \u001b[43mget_handle\u001b[49m\u001b[43m(\u001b[49m\n\u001b[0;32m   1736\u001b[0m \u001b[43m    \u001b[49m\u001b[43mf\u001b[49m\u001b[43m,\u001b[49m\n\u001b[0;32m   1737\u001b[0m \u001b[43m    \u001b[49m\u001b[43mmode\u001b[49m\u001b[43m,\u001b[49m\n\u001b[0;32m   1738\u001b[0m \u001b[43m    \u001b[49m\u001b[43mencoding\u001b[49m\u001b[38;5;241;43m=\u001b[39;49m\u001b[38;5;28;43mself\u001b[39;49m\u001b[38;5;241;43m.\u001b[39;49m\u001b[43moptions\u001b[49m\u001b[38;5;241;43m.\u001b[39;49m\u001b[43mget\u001b[49m\u001b[43m(\u001b[49m\u001b[38;5;124;43m\"\u001b[39;49m\u001b[38;5;124;43mencoding\u001b[39;49m\u001b[38;5;124;43m\"\u001b[39;49m\u001b[43m,\u001b[49m\u001b[43m \u001b[49m\u001b[38;5;28;43;01mNone\u001b[39;49;00m\u001b[43m)\u001b[49m\u001b[43m,\u001b[49m\n\u001b[0;32m   1739\u001b[0m \u001b[43m    \u001b[49m\u001b[43mcompression\u001b[49m\u001b[38;5;241;43m=\u001b[39;49m\u001b[38;5;28;43mself\u001b[39;49m\u001b[38;5;241;43m.\u001b[39;49m\u001b[43moptions\u001b[49m\u001b[38;5;241;43m.\u001b[39;49m\u001b[43mget\u001b[49m\u001b[43m(\u001b[49m\u001b[38;5;124;43m\"\u001b[39;49m\u001b[38;5;124;43mcompression\u001b[39;49m\u001b[38;5;124;43m\"\u001b[39;49m\u001b[43m,\u001b[49m\u001b[43m \u001b[49m\u001b[38;5;28;43;01mNone\u001b[39;49;00m\u001b[43m)\u001b[49m\u001b[43m,\u001b[49m\n\u001b[0;32m   1740\u001b[0m \u001b[43m    \u001b[49m\u001b[43mmemory_map\u001b[49m\u001b[38;5;241;43m=\u001b[39;49m\u001b[38;5;28;43mself\u001b[39;49m\u001b[38;5;241;43m.\u001b[39;49m\u001b[43moptions\u001b[49m\u001b[38;5;241;43m.\u001b[39;49m\u001b[43mget\u001b[49m\u001b[43m(\u001b[49m\u001b[38;5;124;43m\"\u001b[39;49m\u001b[38;5;124;43mmemory_map\u001b[39;49m\u001b[38;5;124;43m\"\u001b[39;49m\u001b[43m,\u001b[49m\u001b[43m \u001b[49m\u001b[38;5;28;43;01mFalse\u001b[39;49;00m\u001b[43m)\u001b[49m\u001b[43m,\u001b[49m\n\u001b[0;32m   1741\u001b[0m \u001b[43m    \u001b[49m\u001b[43mis_text\u001b[49m\u001b[38;5;241;43m=\u001b[39;49m\u001b[43mis_text\u001b[49m\u001b[43m,\u001b[49m\n\u001b[0;32m   1742\u001b[0m \u001b[43m    \u001b[49m\u001b[43merrors\u001b[49m\u001b[38;5;241;43m=\u001b[39;49m\u001b[38;5;28;43mself\u001b[39;49m\u001b[38;5;241;43m.\u001b[39;49m\u001b[43moptions\u001b[49m\u001b[38;5;241;43m.\u001b[39;49m\u001b[43mget\u001b[49m\u001b[43m(\u001b[49m\u001b[38;5;124;43m\"\u001b[39;49m\u001b[38;5;124;43mencoding_errors\u001b[39;49m\u001b[38;5;124;43m\"\u001b[39;49m\u001b[43m,\u001b[49m\u001b[43m \u001b[49m\u001b[38;5;124;43m\"\u001b[39;49m\u001b[38;5;124;43mstrict\u001b[39;49m\u001b[38;5;124;43m\"\u001b[39;49m\u001b[43m)\u001b[49m\u001b[43m,\u001b[49m\n\u001b[0;32m   1743\u001b[0m \u001b[43m    \u001b[49m\u001b[43mstorage_options\u001b[49m\u001b[38;5;241;43m=\u001b[39;49m\u001b[38;5;28;43mself\u001b[39;49m\u001b[38;5;241;43m.\u001b[39;49m\u001b[43moptions\u001b[49m\u001b[38;5;241;43m.\u001b[39;49m\u001b[43mget\u001b[49m\u001b[43m(\u001b[49m\u001b[38;5;124;43m\"\u001b[39;49m\u001b[38;5;124;43mstorage_options\u001b[39;49m\u001b[38;5;124;43m\"\u001b[39;49m\u001b[43m,\u001b[49m\u001b[43m \u001b[49m\u001b[38;5;28;43;01mNone\u001b[39;49;00m\u001b[43m)\u001b[49m\u001b[43m,\u001b[49m\n\u001b[0;32m   1744\u001b[0m \u001b[43m\u001b[49m\u001b[43m)\u001b[49m\n\u001b[0;32m   1745\u001b[0m \u001b[38;5;28;01massert\u001b[39;00m \u001b[38;5;28mself\u001b[39m\u001b[38;5;241m.\u001b[39mhandles \u001b[38;5;129;01mis\u001b[39;00m \u001b[38;5;129;01mnot\u001b[39;00m \u001b[38;5;28;01mNone\u001b[39;00m\n\u001b[0;32m   1746\u001b[0m f \u001b[38;5;241m=\u001b[39m \u001b[38;5;28mself\u001b[39m\u001b[38;5;241m.\u001b[39mhandles\u001b[38;5;241m.\u001b[39mhandle\n",
      "File \u001b[1;32m~\\AppData\\Local\\Programs\\Python\\Python310\\lib\\site-packages\\pandas\\io\\common.py:856\u001b[0m, in \u001b[0;36mget_handle\u001b[1;34m(path_or_buf, mode, encoding, compression, memory_map, is_text, errors, storage_options)\u001b[0m\n\u001b[0;32m    851\u001b[0m \u001b[38;5;28;01melif\u001b[39;00m \u001b[38;5;28misinstance\u001b[39m(handle, \u001b[38;5;28mstr\u001b[39m):\n\u001b[0;32m    852\u001b[0m     \u001b[38;5;66;03m# Check whether the filename is to be opened in binary mode.\u001b[39;00m\n\u001b[0;32m    853\u001b[0m     \u001b[38;5;66;03m# Binary mode does not support 'encoding' and 'newline'.\u001b[39;00m\n\u001b[0;32m    854\u001b[0m     \u001b[38;5;28;01mif\u001b[39;00m ioargs\u001b[38;5;241m.\u001b[39mencoding \u001b[38;5;129;01mand\u001b[39;00m \u001b[38;5;124m\"\u001b[39m\u001b[38;5;124mb\u001b[39m\u001b[38;5;124m\"\u001b[39m \u001b[38;5;129;01mnot\u001b[39;00m \u001b[38;5;129;01min\u001b[39;00m ioargs\u001b[38;5;241m.\u001b[39mmode:\n\u001b[0;32m    855\u001b[0m         \u001b[38;5;66;03m# Encoding\u001b[39;00m\n\u001b[1;32m--> 856\u001b[0m         handle \u001b[38;5;241m=\u001b[39m \u001b[38;5;28;43mopen\u001b[39;49m\u001b[43m(\u001b[49m\n\u001b[0;32m    857\u001b[0m \u001b[43m            \u001b[49m\u001b[43mhandle\u001b[49m\u001b[43m,\u001b[49m\n\u001b[0;32m    858\u001b[0m \u001b[43m            \u001b[49m\u001b[43mioargs\u001b[49m\u001b[38;5;241;43m.\u001b[39;49m\u001b[43mmode\u001b[49m\u001b[43m,\u001b[49m\n\u001b[0;32m    859\u001b[0m \u001b[43m            \u001b[49m\u001b[43mencoding\u001b[49m\u001b[38;5;241;43m=\u001b[39;49m\u001b[43mioargs\u001b[49m\u001b[38;5;241;43m.\u001b[39;49m\u001b[43mencoding\u001b[49m\u001b[43m,\u001b[49m\n\u001b[0;32m    860\u001b[0m \u001b[43m            \u001b[49m\u001b[43merrors\u001b[49m\u001b[38;5;241;43m=\u001b[39;49m\u001b[43merrors\u001b[49m\u001b[43m,\u001b[49m\n\u001b[0;32m    861\u001b[0m \u001b[43m            \u001b[49m\u001b[43mnewline\u001b[49m\u001b[38;5;241;43m=\u001b[39;49m\u001b[38;5;124;43m\"\u001b[39;49m\u001b[38;5;124;43m\"\u001b[39;49m\u001b[43m,\u001b[49m\n\u001b[0;32m    862\u001b[0m \u001b[43m        \u001b[49m\u001b[43m)\u001b[49m\n\u001b[0;32m    863\u001b[0m     \u001b[38;5;28;01melse\u001b[39;00m:\n\u001b[0;32m    864\u001b[0m         \u001b[38;5;66;03m# Binary mode\u001b[39;00m\n\u001b[0;32m    865\u001b[0m         handle \u001b[38;5;241m=\u001b[39m \u001b[38;5;28mopen\u001b[39m(handle, ioargs\u001b[38;5;241m.\u001b[39mmode)\n",
      "\u001b[1;31mFileNotFoundError\u001b[0m: [Errno 2] No such file or directory: 'E:\\\\projects\\\\Used Car price Prediction\\\\train-data.csv'"
     ]
    }
   ],
   "source": [
    "df = pd.read_csv(r\"E:\\projects\\Used Car price Prediction\\train-data.csv\")"
   ]
  },
  {
   "cell_type": "code",
   "execution_count": null,
   "id": "ed4d596f",
   "metadata": {},
   "outputs": [],
   "source": [
    "df.sample(1)"
   ]
  },
  {
   "cell_type": "markdown",
   "id": "48d336ad",
   "metadata": {},
   "source": [
    "### 3.EDA"
   ]
  },
  {
   "cell_type": "code",
   "execution_count": null,
   "id": "9202018a",
   "metadata": {},
   "outputs": [],
   "source": [
    "df.info()"
   ]
  },
  {
   "cell_type": "raw",
   "id": "cf903c71",
   "metadata": {},
   "source": [
    "1. Name - does not have impact on price\n",
    "2. \n",
    "As \"New_Price\" column has more than 80% null values we will excludethat column."
   ]
  },
  {
   "cell_type": "code",
   "execution_count": null,
   "id": "f49763e0",
   "metadata": {},
   "outputs": [],
   "source": [
    "df.head().T"
   ]
  },
  {
   "cell_type": "code",
   "execution_count": null,
   "id": "ab549bb0",
   "metadata": {},
   "outputs": [],
   "source": []
  },
  {
   "cell_type": "markdown",
   "id": "fd2ef5fe",
   "metadata": {},
   "source": [
    "#### Name"
   ]
  },
  {
   "cell_type": "code",
   "execution_count": null,
   "id": "efc558d6",
   "metadata": {},
   "outputs": [],
   "source": [
    "df.Name"
   ]
  },
  {
   "cell_type": "code",
   "execution_count": null,
   "id": "49880c12",
   "metadata": {
    "scrolled": true
   },
   "outputs": [],
   "source": [
    "df['Name'].value_counts()"
   ]
  },
  {
   "cell_type": "code",
   "execution_count": null,
   "id": "4f074282",
   "metadata": {},
   "outputs": [],
   "source": [
    "df['Name'] = df['Name'].apply(lambda x:(re.search('[A-Za-z]+',x)).group())\n",
    "df.Name.nunique()"
   ]
  },
  {
   "cell_type": "code",
   "execution_count": null,
   "id": "dd8e45bc",
   "metadata": {},
   "outputs": [],
   "source": [
    "df = pd.get_dummies(df, columns = ['Name'])"
   ]
  },
  {
   "cell_type": "code",
   "execution_count": null,
   "id": "bfe770a2",
   "metadata": {},
   "outputs": [],
   "source": [
    "df"
   ]
  },
  {
   "cell_type": "markdown",
   "id": "44bbbee3",
   "metadata": {},
   "source": [
    "#### Location"
   ]
  },
  {
   "cell_type": "code",
   "execution_count": null,
   "id": "8b50a193",
   "metadata": {},
   "outputs": [],
   "source": [
    "df.Location"
   ]
  },
  {
   "cell_type": "code",
   "execution_count": null,
   "id": "ab868432",
   "metadata": {},
   "outputs": [],
   "source": [
    "df = pd.get_dummies(df, columns = ['Location'])"
   ]
  },
  {
   "cell_type": "markdown",
   "id": "de756ab4",
   "metadata": {},
   "source": [
    "#### KM Driven"
   ]
  },
  {
   "cell_type": "code",
   "execution_count": null,
   "id": "8071db0b",
   "metadata": {},
   "outputs": [],
   "source": [
    "df['Kilometers_Driven']"
   ]
  },
  {
   "cell_type": "markdown",
   "id": "fdc18a95",
   "metadata": {},
   "source": [
    "#### Fuel_Type"
   ]
  },
  {
   "cell_type": "code",
   "execution_count": null,
   "id": "44aee73f",
   "metadata": {},
   "outputs": [],
   "source": [
    "df.Fuel_Type.value_counts()"
   ]
  },
  {
   "cell_type": "raw",
   "id": "09df5be1",
   "metadata": {},
   "source": [
    "ordered labels\n",
    "\n",
    "petrol\n",
    "diesel\n",
    "lpg\n",
    "cng\n",
    "Electric"
   ]
  },
  {
   "cell_type": "raw",
   "id": "ad7675b7",
   "metadata": {},
   "source": [
    "df = pd.get_dummies(df, columns = ['Fuel_Type'])"
   ]
  },
  {
   "cell_type": "code",
   "execution_count": null,
   "id": "8ad2254a",
   "metadata": {},
   "outputs": [],
   "source": [
    "df['Fuel_Type'] = df['Fuel_Type'].replace({'Petrol' : 0  , 'Diesel' :1 ,'CNG'  : 3 ,\n",
    "                                           'LPG': 2 ,'Electric' : 4 })"
   ]
  },
  {
   "cell_type": "markdown",
   "id": "f2cc9801",
   "metadata": {},
   "source": [
    "#### Transmission"
   ]
  },
  {
   "cell_type": "code",
   "execution_count": null,
   "id": "db12dcef",
   "metadata": {},
   "outputs": [],
   "source": [
    "df.Transmission.value_counts()"
   ]
  },
  {
   "cell_type": "code",
   "execution_count": null,
   "id": "5f2df527",
   "metadata": {},
   "outputs": [],
   "source": [
    "df.Transmission.replace({'Manual':0, 'Automatic':1}, inplace = True)"
   ]
  },
  {
   "cell_type": "markdown",
   "id": "73fe7306",
   "metadata": {},
   "source": [
    "#### Owner_Type"
   ]
  },
  {
   "cell_type": "code",
   "execution_count": null,
   "id": "3fd59fdf",
   "metadata": {},
   "outputs": [],
   "source": [
    "df.Owner_Type.value_counts()"
   ]
  },
  {
   "cell_type": "code",
   "execution_count": null,
   "id": "f0874762",
   "metadata": {},
   "outputs": [],
   "source": [
    "df.Owner_Type.replace({'First' :1, 'Second' :2, 'Third' :3 , 'Fourth & Above' : 4} , inplace = True)"
   ]
  },
  {
   "cell_type": "code",
   "execution_count": null,
   "id": "17d27343",
   "metadata": {},
   "outputs": [],
   "source": [
    "df.Owner_Type"
   ]
  },
  {
   "cell_type": "markdown",
   "id": "627dd070",
   "metadata": {},
   "source": [
    "#### Mileage"
   ]
  },
  {
   "cell_type": "code",
   "execution_count": null,
   "id": "1b186471",
   "metadata": {},
   "outputs": [],
   "source": [
    "df.Mileage"
   ]
  },
  {
   "cell_type": "code",
   "execution_count": null,
   "id": "52964a1c",
   "metadata": {},
   "outputs": [],
   "source": [
    "df.Mileage.isnull().value_counts()"
   ]
  },
  {
   "cell_type": "code",
   "execution_count": null,
   "id": "f54cffa3",
   "metadata": {},
   "outputs": [],
   "source": [
    "null_index = df['Mileage'].loc[df['Mileage'].isna() == True].index\n",
    "df['Mileage'][null_index]"
   ]
  },
  {
   "cell_type": "code",
   "execution_count": null,
   "id": "7eb03b88",
   "metadata": {},
   "outputs": [],
   "source": [
    "index = df['Mileage'].loc[df['Mileage'].isna() == False].index\n",
    "index"
   ]
  },
  {
   "cell_type": "code",
   "execution_count": null,
   "id": "af3cfd3f",
   "metadata": {},
   "outputs": [],
   "source": [
    "f_mileage = lambda x:(re.search('[0-9.]+',str(x)).group())\n",
    "df['Mileage'][index] = df['Mileage'][index].apply(f_mileage)"
   ]
  },
  {
   "cell_type": "code",
   "execution_count": null,
   "id": "883ccbc1",
   "metadata": {},
   "outputs": [],
   "source": [
    "tru_mileage = df['Mileage'][index].astype(float)"
   ]
  },
  {
   "cell_type": "code",
   "execution_count": null,
   "id": "684623fb",
   "metadata": {},
   "outputs": [],
   "source": [
    "zs = zscore(tru_mileage)"
   ]
  },
  {
   "cell_type": "code",
   "execution_count": null,
   "id": "30795644",
   "metadata": {},
   "outputs": [],
   "source": [
    "oindex = np.where(np.abs(zs>3))[0]       # Outlier Detection\n",
    "oindex"
   ]
  },
  {
   "cell_type": "code",
   "execution_count": null,
   "id": "e49ca402",
   "metadata": {},
   "outputs": [],
   "source": [
    "plt.figure(figsize = (4,2))              # Outlier Detection\n",
    "sns.boxplot(tru_mileage)"
   ]
  },
  {
   "cell_type": "code",
   "execution_count": null,
   "id": "9e7bdab4",
   "metadata": {},
   "outputs": [],
   "source": [
    "q1= np.quantile(tru_mileage,0.25)\n",
    "q3= np.quantile(tru_mileage,0.75)\n",
    "iqr = q3 - q1\n",
    "lower_tail = q1 - 1.5*iqr\n",
    "upper_tail = q3 + 1.5*iqr\n",
    "print (lower_tail , upper_tail)"
   ]
  },
  {
   "cell_type": "code",
   "execution_count": null,
   "id": "7df73c02",
   "metadata": {},
   "outputs": [],
   "source": [
    "tru_mileage = np.where(tru_mileage < lower_tail , lower_tail , tru_mileage )\n",
    "tru_mileage = np.where(tru_mileage > upper_tail , upper_tail , tru_mileage )"
   ]
  },
  {
   "cell_type": "code",
   "execution_count": null,
   "id": "e0959a7c",
   "metadata": {},
   "outputs": [],
   "source": [
    "plt.figure(figsize = (4,2))\n",
    "sns.boxplot(tru_mileage)"
   ]
  },
  {
   "cell_type": "code",
   "execution_count": null,
   "id": "4cc281a7",
   "metadata": {},
   "outputs": [],
   "source": [
    "df['Mileage'][index] = tru_mileage"
   ]
  },
  {
   "cell_type": "code",
   "execution_count": null,
   "id": "72ba8c03",
   "metadata": {},
   "outputs": [],
   "source": [
    "plt.figure(figsize = (4,2))\n",
    "sns.boxplot(df['Mileage'])"
   ]
  },
  {
   "cell_type": "code",
   "execution_count": null,
   "id": "cb505a55",
   "metadata": {},
   "outputs": [],
   "source": [
    "df['Mileage'].isna().value_counts()"
   ]
  },
  {
   "cell_type": "code",
   "execution_count": null,
   "id": "c909a288",
   "metadata": {},
   "outputs": [],
   "source": [
    "kni_mileage = KNNImputer(n_neighbors = 3)\n",
    "arr = kni_mileage.fit_transform(df[['Mileage']])\n",
    "df['Mileage'] = pd.DataFrame(arr , columns = ['Mileage'])"
   ]
  },
  {
   "cell_type": "code",
   "execution_count": null,
   "id": "8095553e",
   "metadata": {},
   "outputs": [],
   "source": [
    "df.Mileage.isna().sum()\n",
    "df.Mileage"
   ]
  },
  {
   "cell_type": "markdown",
   "id": "87c98ec3",
   "metadata": {},
   "source": [
    "#### Engine"
   ]
  },
  {
   "cell_type": "code",
   "execution_count": null,
   "id": "699fe69b",
   "metadata": {},
   "outputs": [],
   "source": [
    "df.Engine.isna().value_counts()"
   ]
  },
  {
   "cell_type": "code",
   "execution_count": null,
   "id": "728b8cca",
   "metadata": {},
   "outputs": [],
   "source": [
    "df.Engine.isna().value_counts()"
   ]
  },
  {
   "cell_type": "code",
   "execution_count": null,
   "id": "a4643616",
   "metadata": {},
   "outputs": [],
   "source": [
    "engine_index = df['Engine'].loc[df['Engine'].isna() == False].index"
   ]
  },
  {
   "cell_type": "code",
   "execution_count": null,
   "id": "3454f56d",
   "metadata": {},
   "outputs": [],
   "source": [
    "engine_function = lambda x:( re.search('[0-9.]+' , str(x)).group())\n",
    "df['Engine'][engine_index] = df['Engine'][engine_index].apply(engine_function)"
   ]
  },
  {
   "cell_type": "code",
   "execution_count": null,
   "id": "f02884c9",
   "metadata": {},
   "outputs": [],
   "source": [
    "tru_engine = df['Engine'][engine_index].astype(float)\n",
    "sns.kdeplot(tru_engine)"
   ]
  },
  {
   "cell_type": "code",
   "execution_count": null,
   "id": "3daab8b2",
   "metadata": {},
   "outputs": [],
   "source": [
    "zs_engine = zscore(tru_engine)"
   ]
  },
  {
   "cell_type": "code",
   "execution_count": null,
   "id": "dacba759",
   "metadata": {},
   "outputs": [],
   "source": [
    "engine_outlier_index = np.where(np.abs(zs_engine)>3)[0]   # Outlier Detection\n",
    "engine_outlier_index"
   ]
  },
  {
   "cell_type": "code",
   "execution_count": null,
   "id": "a05434a1",
   "metadata": {},
   "outputs": [],
   "source": [
    "plt.figure(figsize = (4,2))              # Outlier Detection\n",
    "sns.boxplot(tru_engine)"
   ]
  },
  {
   "cell_type": "code",
   "execution_count": null,
   "id": "0bde85da",
   "metadata": {},
   "outputs": [],
   "source": [
    "e1 = np.quantile(tru_engine, 0.25)\n",
    "e3 = np.quantile(tru_engine , 0.75)\n",
    "eiqr = 1.5* (e3 - e1)\n",
    "le_tail = e1 - eiqr\n",
    "ue_tail = e3 + eiqr\n",
    "print(le_tail , ue_tail)"
   ]
  },
  {
   "cell_type": "code",
   "execution_count": null,
   "id": "ee0c5c4d",
   "metadata": {},
   "outputs": [],
   "source": [
    "tru_engine = np.where(tru_engine<le_tail , le_tail, tru_engine)\n",
    "tru_engine = np.where(tru_engine>ue_tail , ue_tail, tru_engine)"
   ]
  },
  {
   "cell_type": "code",
   "execution_count": null,
   "id": "d2f8e0c9",
   "metadata": {},
   "outputs": [],
   "source": [
    "df['Engine'][engine_index] = tru_engine"
   ]
  },
  {
   "cell_type": "code",
   "execution_count": null,
   "id": "5a3d68e6",
   "metadata": {},
   "outputs": [],
   "source": [
    "plt.figure(figsize = (4,2))  \n",
    "sns.boxplot(df['Engine'])"
   ]
  },
  {
   "cell_type": "code",
   "execution_count": null,
   "id": "04fa3cc9",
   "metadata": {},
   "outputs": [],
   "source": [
    "df['Engine'].isna().sum()"
   ]
  },
  {
   "cell_type": "code",
   "execution_count": null,
   "id": "bc7e63f2",
   "metadata": {},
   "outputs": [],
   "source": [
    "kni_engine = KNNImputer(n_neighbors = 3)\n",
    "arr_eng = kni_engine.fit_transform(df[['Engine']])\n",
    "df['Engine'] = pd.DataFrame(arr_eng , columns = ['Engine'])"
   ]
  },
  {
   "cell_type": "code",
   "execution_count": null,
   "id": "d8443159",
   "metadata": {},
   "outputs": [],
   "source": [
    "df['Engine'].isna().sum()"
   ]
  },
  {
   "cell_type": "markdown",
   "id": "a1573f21",
   "metadata": {},
   "source": [
    "#### Power"
   ]
  },
  {
   "cell_type": "code",
   "execution_count": null,
   "id": "2b683cc3",
   "metadata": {},
   "outputs": [],
   "source": [
    "df['Power']"
   ]
  },
  {
   "cell_type": "code",
   "execution_count": null,
   "id": "99d10978",
   "metadata": {},
   "outputs": [],
   "source": [
    "df['Power'].replace({'null bhp' : np.nan } , inplace = True)"
   ]
  },
  {
   "cell_type": "code",
   "execution_count": null,
   "id": "c3d6d0f4",
   "metadata": {},
   "outputs": [],
   "source": [
    "power_index = df['Power'].loc[df['Power'].isna() == False].index\n",
    "power_index"
   ]
  },
  {
   "cell_type": "code",
   "execution_count": null,
   "id": "b5d55090",
   "metadata": {},
   "outputs": [],
   "source": [
    "df['Power']"
   ]
  },
  {
   "cell_type": "code",
   "execution_count": null,
   "id": "52db6a06",
   "metadata": {},
   "outputs": [],
   "source": [
    "df['Power'][power_index]"
   ]
  },
  {
   "cell_type": "code",
   "execution_count": null,
   "id": "ab2e8b58",
   "metadata": {},
   "outputs": [],
   "source": []
  },
  {
   "cell_type": "code",
   "execution_count": null,
   "id": "d8576ed2",
   "metadata": {},
   "outputs": [],
   "source": [
    "power_function = lambda x:(re.search('[0-9.]+',str(x)).group())\n",
    "df['Power'][power_index] = df['Power'][power_index].apply(power_function)"
   ]
  },
  {
   "cell_type": "code",
   "execution_count": null,
   "id": "809a8b68",
   "metadata": {},
   "outputs": [],
   "source": [
    "df['Power'][power_index]"
   ]
  },
  {
   "cell_type": "code",
   "execution_count": null,
   "id": "ccd8edfd",
   "metadata": {},
   "outputs": [],
   "source": [
    "tru_power = df['Power'][power_index].astype(float)"
   ]
  },
  {
   "cell_type": "code",
   "execution_count": null,
   "id": "fa722b5b",
   "metadata": {},
   "outputs": [],
   "source": [
    "zs_power = zscore(tru_power)\n",
    "power_outliers_index = np.where(np.abs(zs_power)>3)\n",
    "power_outliers_index"
   ]
  },
  {
   "cell_type": "code",
   "execution_count": null,
   "id": "7f70aaa9",
   "metadata": {},
   "outputs": [],
   "source": [
    "plt.figure(figsize = (4, 2))\n",
    "sns.boxplot(tru_power)"
   ]
  },
  {
   "cell_type": "code",
   "execution_count": null,
   "id": "67ff486b",
   "metadata": {},
   "outputs": [],
   "source": [
    "p1 = np.quantile(tru_power , 0.25) \n",
    "p3 = np.quantile(tru_power , 0.75) \n",
    "piqr = 1.5* (p3 - p1)\n",
    "\n",
    "lp_tail = p1 - piqr\n",
    "up_tail = p3 + piqr"
   ]
  },
  {
   "cell_type": "code",
   "execution_count": null,
   "id": "1985476d",
   "metadata": {},
   "outputs": [],
   "source": [
    "piqr"
   ]
  },
  {
   "cell_type": "code",
   "execution_count": null,
   "id": "68709e15",
   "metadata": {},
   "outputs": [],
   "source": [
    "print(lp_tail)"
   ]
  },
  {
   "cell_type": "code",
   "execution_count": null,
   "id": "c73cfd92",
   "metadata": {},
   "outputs": [],
   "source": [
    "up_tail "
   ]
  },
  {
   "cell_type": "code",
   "execution_count": null,
   "id": "0aa0ad9d",
   "metadata": {},
   "outputs": [],
   "source": [
    "tru_power = np.where(tru_power>up_tail , up_tail , tru_power)"
   ]
  },
  {
   "cell_type": "code",
   "execution_count": null,
   "id": "99ec4015",
   "metadata": {},
   "outputs": [],
   "source": [
    "plt.figure(figsize = (4, 2))\n",
    "sns.boxplot(tru_power)"
   ]
  },
  {
   "cell_type": "code",
   "execution_count": null,
   "id": "716bcf7d",
   "metadata": {},
   "outputs": [],
   "source": [
    "df['Power'][power_index] = tru_power"
   ]
  },
  {
   "cell_type": "code",
   "execution_count": null,
   "id": "47aa5ec3",
   "metadata": {},
   "outputs": [],
   "source": [
    "plt.figure(figsize = (4, 2))\n",
    "sns.boxplot(df['Power'])"
   ]
  },
  {
   "cell_type": "code",
   "execution_count": null,
   "id": "82a1ac1c",
   "metadata": {},
   "outputs": [],
   "source": [
    "kni_power = KNNImputer(n_neighbors = 3)\n",
    "arr_power = kni_power.fit_transform(df[['Power']])\n",
    "df ['Power'] = pd.DataFrame(arr_power , columns = ['Power'])"
   ]
  },
  {
   "cell_type": "code",
   "execution_count": null,
   "id": "fe718c51",
   "metadata": {},
   "outputs": [],
   "source": [
    "df['Power'].isna().sum()"
   ]
  },
  {
   "cell_type": "markdown",
   "id": "134cfb5e",
   "metadata": {},
   "source": [
    "#### Seats"
   ]
  },
  {
   "cell_type": "code",
   "execution_count": null,
   "id": "b18a6c1e",
   "metadata": {},
   "outputs": [],
   "source": [
    "zs_seats = zscore(df['Seats'])"
   ]
  },
  {
   "cell_type": "code",
   "execution_count": null,
   "id": "34e2f190",
   "metadata": {},
   "outputs": [],
   "source": [
    "seats_outliers_index = np.where(np.abs(zs_seats)>3)\n",
    "seats_outliers_index"
   ]
  },
  {
   "cell_type": "code",
   "execution_count": null,
   "id": "069de6b4",
   "metadata": {},
   "outputs": [],
   "source": [
    "plt.figure(figsize = (4, 2))\n",
    "sns.kdeplot(df['Seats'])"
   ]
  },
  {
   "cell_type": "code",
   "execution_count": null,
   "id": "f3f4d06e",
   "metadata": {},
   "outputs": [],
   "source": [
    "kni_seats = KNNImputer(n_neighbors = 3)\n",
    "seats_arr = kni_seats.fit_transform(df[['Seats']])\n",
    "df['Seats'] = pd.DataFrame(seats_arr , columns = ['Seats'])"
   ]
  },
  {
   "cell_type": "code",
   "execution_count": null,
   "id": "1dd3985b",
   "metadata": {},
   "outputs": [],
   "source": [
    "df['Seats'].isna().sum()"
   ]
  },
  {
   "cell_type": "markdown",
   "id": "4faa1249",
   "metadata": {},
   "source": [
    "#### year"
   ]
  },
  {
   "cell_type": "code",
   "execution_count": null,
   "id": "efb359f6",
   "metadata": {},
   "outputs": [],
   "source": [
    "df.rename({'Year': 'Age'}, axis  = 1, inplace = True)"
   ]
  },
  {
   "cell_type": "code",
   "execution_count": null,
   "id": "5cd96eee",
   "metadata": {},
   "outputs": [],
   "source": [
    "f_year = lambda x : (2023-x)\n",
    "df['Age']= df['Age'].apply(f_year)"
   ]
  },
  {
   "cell_type": "code",
   "execution_count": null,
   "id": "f4b61eaf",
   "metadata": {},
   "outputs": [],
   "source": [
    "df"
   ]
  },
  {
   "cell_type": "markdown",
   "id": "cf0c0152",
   "metadata": {},
   "source": [
    "### Model Training "
   ]
  },
  {
   "cell_type": "code",
   "execution_count": null,
   "id": "b5a47e0c",
   "metadata": {},
   "outputs": [],
   "source": [
    "x = df.drop(['Price' ,'New_Price'] , axis = 1)\n",
    "y = df['Price']"
   ]
  },
  {
   "cell_type": "code",
   "execution_count": null,
   "id": "0103099b",
   "metadata": {},
   "outputs": [],
   "source": [
    "xtr , xts , ytr , yts = train_test_split(x,y, test_size = 0.2 , random_state = 33)"
   ]
  },
  {
   "cell_type": "code",
   "execution_count": null,
   "id": "ec940490",
   "metadata": {},
   "outputs": [],
   "source": [
    "linreg = LinearRegression()\n",
    "linreg.fit(xtr,ytr)"
   ]
  },
  {
   "cell_type": "markdown",
   "id": "91dc4eab",
   "metadata": {},
   "source": [
    "### Training Evaluation "
   ]
  },
  {
   "cell_type": "code",
   "execution_count": null,
   "id": "3101bedc",
   "metadata": {},
   "outputs": [],
   "source": [
    "yptr = linreg.predict(xtr)\n",
    "r2_score(ytr,yptr)"
   ]
  },
  {
   "cell_type": "markdown",
   "id": "8d09ed1f",
   "metadata": {},
   "source": [
    "### Testing Evaluation "
   ]
  },
  {
   "cell_type": "code",
   "execution_count": null,
   "id": "66b8cdb5",
   "metadata": {},
   "outputs": [],
   "source": [
    "ypts = linreg.predict(xts)\n",
    "r2_score(yts,ypts)"
   ]
  },
  {
   "cell_type": "code",
   "execution_count": null,
   "id": "ff9d9a89",
   "metadata": {},
   "outputs": [],
   "source": [
    "col_list = df.columns.to_list()"
   ]
  },
  {
   "cell_type": "code",
   "execution_count": null,
   "id": "285dfad8",
   "metadata": {},
   "outputs": [],
   "source": [
    "col_list"
   ]
  },
  {
   "cell_type": "code",
   "execution_count": null,
   "id": "0c67ace0",
   "metadata": {},
   "outputs": [],
   "source": [
    "col_dict = {'Column_Names' : col_list , \n",
    "            'Fuel_Type' : {'Petrol' : 0  , 'Diesel' :1 ,'CNG'  : 3 ,\n",
    "                           'LPG': 2 ,'Electric' : 4 } ,\n",
    "            'Transmission': {'Manual':0, 'Automatic':1} , \n",
    "            'Owner_Type':{'First' :1, 'Second' :2, 'Third' :3 , 'Fourth & Above' : 4}}"
   ]
  },
  {
   "cell_type": "code",
   "execution_count": null,
   "id": "52c2b7bc",
   "metadata": {},
   "outputs": [],
   "source": []
  },
  {
   "cell_type": "code",
   "execution_count": null,
   "id": "d2bb269c",
   "metadata": {},
   "outputs": [],
   "source": [
    "with open('column_data.json' , 'w') as f:\n",
    "    json.dump(col_dict,f)"
   ]
  },
  {
   "cell_type": "code",
   "execution_count": null,
   "id": "a535d6bc",
   "metadata": {},
   "outputs": [],
   "source": [
    "with open('linreg.pkl' , 'wb') as f:\n",
    "    pickle.dump(linreg,f)"
   ]
  }
 ],
 "metadata": {
  "kernelspec": {
   "display_name": "Python 3 (ipykernel)",
   "language": "python",
   "name": "python3"
  },
  "language_info": {
   "codemirror_mode": {
    "name": "ipython",
    "version": 3
   },
   "file_extension": ".py",
   "mimetype": "text/x-python",
   "name": "python",
   "nbconvert_exporter": "python",
   "pygments_lexer": "ipython3",
   "version": "3.10.7"
  }
 },
 "nbformat": 4,
 "nbformat_minor": 5
}
